{
 "cells": [
  {
   "cell_type": "code",
   "execution_count": 96,
   "id": "de524ea4-849b-4ad7-aba6-70db2e4c40a8",
   "metadata": {},
   "outputs": [],
   "source": [
    "s= \"pooja\""
   ]
  },
  {
   "cell_type": "code",
   "execution_count": 97,
   "id": "9c31ad1a-ce38-4e24-add5-0fb37002db52",
   "metadata": {},
   "outputs": [
    {
     "data": {
      "text/plain": [
       "str"
      ]
     },
     "execution_count": 97,
     "metadata": {},
     "output_type": "execute_result"
    }
   ],
   "source": [
    "type(s)\n"
   ]
  },
  {
   "cell_type": "code",
   "execution_count": 98,
   "id": "4385dabd-e5d5-4c6d-8def-1ce6908eb2ff",
   "metadata": {},
   "outputs": [
    {
     "data": {
      "text/plain": [
       "'p'"
      ]
     },
     "execution_count": 98,
     "metadata": {},
     "output_type": "execute_result"
    }
   ],
   "source": [
    "s[0]"
   ]
  },
  {
   "cell_type": "code",
   "execution_count": 99,
   "id": "79454c22-d0b3-4601-8b6e-29e65a7eba94",
   "metadata": {},
   "outputs": [
    {
     "data": {
      "text/plain": [
       "'o'"
      ]
     },
     "execution_count": 99,
     "metadata": {},
     "output_type": "execute_result"
    }
   ],
   "source": [
    "s[2]"
   ]
  },
  {
   "cell_type": "code",
   "execution_count": 100,
   "id": "168b69cd-c13a-46fd-8b25-669814d37c1b",
   "metadata": {},
   "outputs": [
    {
     "data": {
      "text/plain": [
       "'a'"
      ]
     },
     "execution_count": 100,
     "metadata": {},
     "output_type": "execute_result"
    }
   ],
   "source": [
    "s[-1]\n",
    "\n"
   ]
  },
  {
   "cell_type": "code",
   "execution_count": 101,
   "id": "4d54800e-d5d8-4050-85e8-fd80c24aaa0c",
   "metadata": {},
   "outputs": [
    {
     "data": {
      "text/plain": [
       "'j'"
      ]
     },
     "execution_count": 101,
     "metadata": {},
     "output_type": "execute_result"
    }
   ],
   "source": [
    "s[-2]"
   ]
  },
  {
   "cell_type": "code",
   "execution_count": 102,
   "id": "fcac6f16-5caa-4936-88ff-8513acfce157",
   "metadata": {},
   "outputs": [],
   "source": [
    "a = \"my name is pooja\""
   ]
  },
  {
   "cell_type": "code",
   "execution_count": 103,
   "id": "89efc247-2cca-4786-96b3-fe4453bc2550",
   "metadata": {},
   "outputs": [
    {
     "data": {
      "text/plain": [
       "'m'"
      ]
     },
     "execution_count": 103,
     "metadata": {},
     "output_type": "execute_result"
    }
   ],
   "source": [
    "a[0]"
   ]
  },
  {
   "cell_type": "code",
   "execution_count": 104,
   "id": "e0a94f90-8eaf-4af7-99a1-25beb159bd8b",
   "metadata": {},
   "outputs": [
    {
     "data": {
      "text/plain": [
       "'my name is'"
      ]
     },
     "execution_count": 104,
     "metadata": {},
     "output_type": "execute_result"
    }
   ],
   "source": [
    "a[0:10]"
   ]
  },
  {
   "cell_type": "code",
   "execution_count": 105,
   "id": "920b222d-a77c-43e5-965f-7a386bc79393",
   "metadata": {},
   "outputs": [],
   "source": [
    "b = \"pandey\""
   ]
  },
  {
   "cell_type": "code",
   "execution_count": 106,
   "id": "8aea7a03-efac-44c2-b315-0632499ce00b",
   "metadata": {},
   "outputs": [
    {
     "data": {
      "text/plain": [
       "'pandey'"
      ]
     },
     "execution_count": 106,
     "metadata": {},
     "output_type": "execute_result"
    }
   ],
   "source": [
    "b[0:200:1]"
   ]
  },
  {
   "cell_type": "code",
   "execution_count": 107,
   "id": "6b744c2d-28c0-425e-8783-a86b1124698c",
   "metadata": {},
   "outputs": [
    {
     "data": {
      "text/plain": [
       "'pne'"
      ]
     },
     "execution_count": 107,
     "metadata": {},
     "output_type": "execute_result"
    }
   ],
   "source": [
    "b[0:200:2]"
   ]
  },
  {
   "cell_type": "code",
   "execution_count": 108,
   "id": "5a580245-8556-4296-a649-54f1a4fa5271",
   "metadata": {},
   "outputs": [
    {
     "data": {
      "text/plain": [
       "''"
      ]
     },
     "execution_count": 108,
     "metadata": {},
     "output_type": "execute_result"
    }
   ],
   "source": [
    "b[0:100:-2]"
   ]
  },
  {
   "cell_type": "code",
   "execution_count": 109,
   "id": "e075170b-12a1-434b-9cfe-0276b17a3c0b",
   "metadata": {},
   "outputs": [
    {
     "data": {
      "text/plain": [
       "'yed'"
      ]
     },
     "execution_count": 109,
     "metadata": {},
     "output_type": "execute_result"
    }
   ],
   "source": [
    "b[-1:-4:-1]"
   ]
  },
  {
   "cell_type": "code",
   "execution_count": 110,
   "id": "47f9b417-66b9-43f8-ab85-81baf7ba6a72",
   "metadata": {},
   "outputs": [
    {
     "data": {
      "text/plain": [
       "'pandey'"
      ]
     },
     "execution_count": 110,
     "metadata": {},
     "output_type": "execute_result"
    }
   ],
   "source": [
    "b\n"
   ]
  },
  {
   "cell_type": "code",
   "execution_count": 111,
   "id": "a7764589-739b-4458-9f45-7aca2bc4bb3b",
   "metadata": {},
   "outputs": [
    {
     "data": {
      "text/plain": [
       "'pandey'"
      ]
     },
     "execution_count": 111,
     "metadata": {},
     "output_type": "execute_result"
    }
   ],
   "source": [
    "b[:8]"
   ]
  },
  {
   "cell_type": "code",
   "execution_count": 112,
   "id": "cc677fdf-42f8-4bda-a703-4273d34b9dae",
   "metadata": {},
   "outputs": [
    {
     "data": {
      "text/plain": [
       "'pandey'"
      ]
     },
     "execution_count": 112,
     "metadata": {},
     "output_type": "execute_result"
    }
   ],
   "source": [
    "b[::]"
   ]
  },
  {
   "cell_type": "code",
   "execution_count": 113,
   "id": "1bae435c-06b3-4b66-8ece-f0033e3abb25",
   "metadata": {},
   "outputs": [
    {
     "data": {
      "text/plain": [
       "'e'"
      ]
     },
     "execution_count": 113,
     "metadata": {},
     "output_type": "execute_result"
    }
   ],
   "source": [
    "b[-2:-1]"
   ]
  },
  {
   "cell_type": "code",
   "execution_count": 114,
   "id": "1c572a07-0635-427a-995c-9e7c0b0ceab7",
   "metadata": {},
   "outputs": [
    {
     "data": {
      "text/plain": [
       "'ey'"
      ]
     },
     "execution_count": 114,
     "metadata": {},
     "output_type": "execute_result"
    }
   ],
   "source": [
    "b[-2:]"
   ]
  },
  {
   "cell_type": "code",
   "execution_count": 115,
   "id": "780fc2e0-e994-4b09-890e-5539506ffc22",
   "metadata": {},
   "outputs": [
    {
     "data": {
      "text/plain": [
       "'e'"
      ]
     },
     "execution_count": 115,
     "metadata": {},
     "output_type": "execute_result"
    }
   ],
   "source": [
    "b[-2:-1]"
   ]
  },
  {
   "cell_type": "code",
   "execution_count": 116,
   "id": "0699d2f9-62ab-47cd-a448-58e1d2773295",
   "metadata": {},
   "outputs": [
    {
     "data": {
      "text/plain": [
       "'yednap'"
      ]
     },
     "execution_count": 116,
     "metadata": {},
     "output_type": "execute_result"
    }
   ],
   "source": [
    "b[::-1]      #start:stop:direction/place"
   ]
  },
  {
   "cell_type": "code",
   "execution_count": 117,
   "id": "34d28880-0315-496f-871e-398a6f040e09",
   "metadata": {},
   "outputs": [],
   "source": [
    "c = \"i am working with ineuron\""
   ]
  },
  {
   "cell_type": "code",
   "execution_count": 118,
   "id": "22f0f743-cffc-401c-a9a8-d5db9c39c06b",
   "metadata": {},
   "outputs": [
    {
     "data": {
      "text/plain": [
       "'norueni htiw gnikrow ma i'"
      ]
     },
     "execution_count": 118,
     "metadata": {},
     "output_type": "execute_result"
    }
   ],
   "source": [
    "c[::-1]"
   ]
  },
  {
   "cell_type": "code",
   "execution_count": 119,
   "id": "f0679295-e9b0-425b-986c-c57a53a0a528",
   "metadata": {},
   "outputs": [],
   "source": [
    "l1 = [\"sudh\",\"kumar\",\"4567\"]\n",
    "l2 = [\"xyz\",\"pqr\", \"546.567\"]"
   ]
  },
  {
   "cell_type": "code",
   "execution_count": 120,
   "id": "84828fc5-81f6-4003-8497-d518dd50dbb0",
   "metadata": {},
   "outputs": [
    {
     "data": {
      "text/plain": [
       "['sudh', 'kumar', '4567', 'xyz', 'pqr', '546.567']"
      ]
     },
     "execution_count": 120,
     "metadata": {},
     "output_type": "execute_result"
    }
   ],
   "source": [
    "l1+l2"
   ]
  },
  {
   "cell_type": "code",
   "execution_count": 121,
   "id": "351a3bf8-dad5-487e-97c4-bade045291bb",
   "metadata": {},
   "outputs": [
    {
     "data": {
      "text/plain": [
       "['sudh', 'kumar', '4567', 'sudh']"
      ]
     },
     "execution_count": 121,
     "metadata": {},
     "output_type": "execute_result"
    }
   ],
   "source": [
    "l1+[\"sudh\"]"
   ]
  },
  {
   "cell_type": "code",
   "execution_count": 122,
   "id": "20207099-065e-4d28-8bf1-e9de496109ed",
   "metadata": {},
   "outputs": [
    {
     "data": {
      "text/plain": [
       "['sudh', 'kumar', '4567', 'sudh', 'kumar', '4567']"
      ]
     },
     "execution_count": 122,
     "metadata": {},
     "output_type": "execute_result"
    }
   ],
   "source": [
    "l1*2"
   ]
  },
  {
   "cell_type": "code",
   "execution_count": 123,
   "id": "714cc856-0b24-4e60-9c65-cd8047c27ee8",
   "metadata": {},
   "outputs": [],
   "source": [
    "l1[0] = \"pooja\""
   ]
  },
  {
   "cell_type": "code",
   "execution_count": 124,
   "id": "961738ce-a958-448d-9110-f8b894aeb177",
   "metadata": {},
   "outputs": [
    {
     "data": {
      "text/plain": [
       "['pooja', 'kumar', '4567']"
      ]
     },
     "execution_count": 124,
     "metadata": {},
     "output_type": "execute_result"
    }
   ],
   "source": [
    "l1"
   ]
  },
  {
   "cell_type": "code",
   "execution_count": 125,
   "id": "ba19f1ab-2d3d-4d35-b3be-53f5da27fdbc",
   "metadata": {},
   "outputs": [],
   "source": [
    "p =\"pandey\""
   ]
  },
  {
   "cell_type": "code",
   "execution_count": 126,
   "id": "2c386dd3-9cc4-4d47-b866-9d46b1ba3f58",
   "metadata": {},
   "outputs": [
    {
     "data": {
      "text/plain": [
       "'handey'"
      ]
     },
     "execution_count": 126,
     "metadata": {},
     "output_type": "execute_result"
    }
   ],
   "source": [
    "p.replace('p','h')"
   ]
  },
  {
   "cell_type": "code",
   "execution_count": 127,
   "id": "e8cf2e78-015b-4f23-8d50-fc874bb1c2cd",
   "metadata": {},
   "outputs": [],
   "source": [
    "#append add list at last\n",
    "#extend add items from list to last\n",
    "#pop remove from last\n",
    "#insert add at index position"
   ]
  },
  {
   "cell_type": "code",
   "execution_count": 128,
   "id": "7ba2dbf8-696c-49eb-add6-41137877b174",
   "metadata": {},
   "outputs": [],
   "source": [
    "#string index : immutable \n",
    "#tuple and list : square bracket,mutable\n",
    "#tuple round bracket,immutable, doesn't support append,extend,pop,insert etc"
   ]
  },
  {
   "cell_type": "code",
   "execution_count": 129,
   "id": "a95831ab-d136-4ba2-ac02-66c1dc8c8fa9",
   "metadata": {},
   "outputs": [
    {
     "data": {
      "text/plain": [
       "tuple"
      ]
     },
     "execution_count": 129,
     "metadata": {},
     "output_type": "execute_result"
    }
   ],
   "source": [
    "t=(\"pooja\",\"l\",\"h\",\"p\")\n",
    "type(t)"
   ]
  },
  {
   "cell_type": "code",
   "execution_count": 130,
   "id": "5c73e45c-3abe-4023-b788-3623c27ba3cc",
   "metadata": {},
   "outputs": [
    {
     "data": {
      "text/plain": [
       "list"
      ]
     },
     "execution_count": 130,
     "metadata": {},
     "output_type": "execute_result"
    }
   ],
   "source": [
    "l=[\"pooja\",\"l\",\"h\",\"p\"]\n",
    "type(l)"
   ]
  },
  {
   "cell_type": "code",
   "execution_count": 131,
   "id": "6afb8d19-e487-4f08-9da1-03c42223a1be",
   "metadata": {},
   "outputs": [
    {
     "data": {
      "text/plain": [
       "('pooja', 'l')"
      ]
     },
     "execution_count": 131,
     "metadata": {},
     "output_type": "execute_result"
    }
   ],
   "source": [
    "t[0:2]"
   ]
  },
  {
   "cell_type": "code",
   "execution_count": 132,
   "id": "d55146d4-c11a-4368-a3f4-0b113ebd3d23",
   "metadata": {},
   "outputs": [
    {
     "data": {
      "text/plain": [
       "['pooja']"
      ]
     },
     "execution_count": 132,
     "metadata": {},
     "output_type": "execute_result"
    }
   ],
   "source": [
    "l[0:2:2]"
   ]
  },
  {
   "cell_type": "code",
   "execution_count": 133,
   "id": "8f22b93a-84be-49c6-aa8f-8bb5826c2264",
   "metadata": {},
   "outputs": [
    {
     "data": {
      "text/plain": [
       "('p', 'h', 'l', 'pooja')"
      ]
     },
     "execution_count": 133,
     "metadata": {},
     "output_type": "execute_result"
    }
   ],
   "source": [
    "t[::-1]"
   ]
  },
  {
   "cell_type": "code",
   "execution_count": 134,
   "id": "6dccf523-22f2-4136-a55e-6542bf96eb45",
   "metadata": {},
   "outputs": [
    {
     "data": {
      "text/plain": [
       "'p'"
      ]
     },
     "execution_count": 134,
     "metadata": {},
     "output_type": "execute_result"
    }
   ],
   "source": [
    "t[-1]"
   ]
  },
  {
   "cell_type": "code",
   "execution_count": 135,
   "id": "5a8502f1-d57b-40cb-bc48-05b2011e76b8",
   "metadata": {},
   "outputs": [
    {
     "data": {
      "text/plain": [
       "('pooja',)"
      ]
     },
     "execution_count": 135,
     "metadata": {},
     "output_type": "execute_result"
    }
   ],
   "source": [
    "t[:1]"
   ]
  },
  {
   "cell_type": "code",
   "execution_count": 136,
   "id": "94262ccc-445c-4956-804d-572052ddb3a8",
   "metadata": {},
   "outputs": [
    {
     "data": {
      "text/plain": [
       "('p',)"
      ]
     },
     "execution_count": 136,
     "metadata": {},
     "output_type": "execute_result"
    }
   ],
   "source": [
    "t[-1::-7]"
   ]
  },
  {
   "cell_type": "code",
   "execution_count": 137,
   "id": "a0fd1fa9-fa80-4d95-9243-bb6f2bdbba64",
   "metadata": {},
   "outputs": [
    {
     "data": {
      "text/plain": [
       "('pooja', 'l', 'h', 'p')"
      ]
     },
     "execution_count": 137,
     "metadata": {},
     "output_type": "execute_result"
    }
   ],
   "source": [
    "t"
   ]
  },
  {
   "cell_type": "code",
   "execution_count": 138,
   "id": "6aec728d-04ca-4d92-95dc-1d1e9a691a43",
   "metadata": {},
   "outputs": [
    {
     "data": {
      "text/plain": [
       "('pooja', 'l', 'h', 'p', 'pooja', 'l', 'h', 'p')"
      ]
     },
     "execution_count": 138,
     "metadata": {},
     "output_type": "execute_result"
    }
   ],
   "source": [
    "t*2"
   ]
  },
  {
   "cell_type": "code",
   "execution_count": 139,
   "id": "3800036e-3f6b-4951-affa-5bf8e9530fdf",
   "metadata": {},
   "outputs": [],
   "source": [
    "t2=(\"xyz\",\"hh\",\"pp\")"
   ]
  },
  {
   "cell_type": "code",
   "execution_count": 140,
   "id": "9aa1a1da-0024-44fa-82c0-b39325b97f13",
   "metadata": {},
   "outputs": [
    {
     "data": {
      "text/plain": [
       "('pooja', 'l', 'h', 'p', 'xyz', 'hh', 'pp')"
      ]
     },
     "execution_count": 140,
     "metadata": {},
     "output_type": "execute_result"
    }
   ],
   "source": [
    "t+t2"
   ]
  },
  {
   "cell_type": "code",
   "execution_count": 141,
   "id": "e12234a4-0372-4017-954b-c8232280039c",
   "metadata": {},
   "outputs": [],
   "source": [
    "t3=(5,(7,4,56,56,65,3,53,355,45),(53435,545,535235,32,\"urh\",2423),[\"dhhdad\",\"hx\",544,664])"
   ]
  },
  {
   "cell_type": "markdown",
   "id": "2b950467-d4e1-4112-a313-1cae99a960c3",
   "metadata": {},
   "source": [
    "# "
   ]
  },
  {
   "cell_type": "code",
   "execution_count": 143,
   "id": "08db688e-d0b4-483b-b5d6-c3961eb8e87e",
   "metadata": {},
   "outputs": [
    {
     "data": {
      "text/plain": [
       "(5,\n",
       " (7, 4, 56, 56, 65, 3, 53, 355, 45),\n",
       " (53435, 545, 535235, 32, 'urh', 2423),\n",
       " ['dhhdad', 'hx', 544, 664])"
      ]
     },
     "execution_count": 143,
     "metadata": {},
     "output_type": "execute_result"
    }
   ],
   "source": [
    "t3"
   ]
  },
  {
   "cell_type": "code",
   "execution_count": 144,
   "id": "7fd4ed81-c5a9-410e-b9c8-da21fa9347af",
   "metadata": {},
   "outputs": [
    {
     "data": {
      "text/plain": [
       "544"
      ]
     },
     "execution_count": 144,
     "metadata": {},
     "output_type": "execute_result"
    }
   ],
   "source": [
    "t3[3][2]"
   ]
  },
  {
   "cell_type": "code",
   "execution_count": 145,
   "id": "abe016b5-2683-4c20-a007-448eafbcc31a",
   "metadata": {},
   "outputs": [],
   "source": [
    "t3[3][2]=\"uh\""
   ]
  },
  {
   "cell_type": "code",
   "execution_count": 146,
   "id": "001f5e3b-7333-4c4b-a414-8cdf131dc71a",
   "metadata": {},
   "outputs": [
    {
     "data": {
      "text/plain": [
       "(5,\n",
       " (7, 4, 56, 56, 65, 3, 53, 355, 45),\n",
       " (53435, 545, 535235, 32, 'urh', 2423),\n",
       " ['dhhdad', 'hx', 'uh', 664])"
      ]
     },
     "execution_count": 146,
     "metadata": {},
     "output_type": "execute_result"
    }
   ],
   "source": [
    "t3"
   ]
  },
  {
   "cell_type": "code",
   "execution_count": 147,
   "id": "e59ab171-2644-4a8b-953e-e187a3c0551b",
   "metadata": {},
   "outputs": [],
   "source": [
    "l2 = list(t3)"
   ]
  },
  {
   "cell_type": "code",
   "execution_count": 148,
   "id": "4d2509a9-cb42-43fb-9332-4eb71a4e4dfe",
   "metadata": {},
   "outputs": [
    {
     "data": {
      "text/plain": [
       "[5,\n",
       " (7, 4, 56, 56, 65, 3, 53, 355, 45),\n",
       " (53435, 545, 535235, 32, 'urh', 2423),\n",
       " ['dhhdad', 'hx', 'uh', 664]]"
      ]
     },
     "execution_count": 148,
     "metadata": {},
     "output_type": "execute_result"
    }
   ],
   "source": [
    "l2"
   ]
  },
  {
   "cell_type": "code",
   "execution_count": 149,
   "id": "52a6f15c-3ab7-4359-9d85-ce9fd8225b24",
   "metadata": {},
   "outputs": [],
   "source": [
    "t3=tuple(l2)"
   ]
  },
  {
   "cell_type": "code",
   "execution_count": 150,
   "id": "ea4750aa-a48c-44bb-9197-ee82713ad553",
   "metadata": {},
   "outputs": [
    {
     "data": {
      "text/plain": [
       "(5,\n",
       " (7, 4, 56, 56, 65, 3, 53, 355, 45),\n",
       " (53435, 545, 535235, 32, 'urh', 2423),\n",
       " ['dhhdad', 'hx', 'uh', 664])"
      ]
     },
     "execution_count": 150,
     "metadata": {},
     "output_type": "execute_result"
    }
   ],
   "source": [
    "t3"
   ]
  },
  {
   "cell_type": "code",
   "execution_count": 151,
   "id": "87d90a55-2e10-4d49-be93-53dfc1076279",
   "metadata": {},
   "outputs": [],
   "source": [
    "#set : unique items in list, curley brackets, bracket must have items, can't do indexing\n",
    "#set do not allow to add list(mutable) into set but tuples(immutable) are allowed\n",
    "#dict : empty curley bracket"
   ]
  },
  {
   "cell_type": "code",
   "execution_count": 152,
   "id": "92944c6d-43cc-45ec-9e91-f13e4a7a0550",
   "metadata": {},
   "outputs": [
    {
     "data": {
      "text/plain": [
       "['pooja', 'l', 'h', 'p']"
      ]
     },
     "execution_count": 152,
     "metadata": {},
     "output_type": "execute_result"
    }
   ],
   "source": [
    "l"
   ]
  },
  {
   "cell_type": "code",
   "execution_count": 153,
   "id": "e695f5f3-51a5-49ad-a3e9-dbd68c634643",
   "metadata": {},
   "outputs": [],
   "source": [
    "l.extend([1,3,2,42,23,1,1,32,3,3,455,3,32,3,42])"
   ]
  },
  {
   "cell_type": "code",
   "execution_count": 154,
   "id": "c8cadf75-493b-4316-afde-91111561e7eb",
   "metadata": {},
   "outputs": [
    {
     "data": {
      "text/plain": [
       "['pooja', 'l', 'h', 'p', 1, 3, 2, 42, 23, 1, 1, 32, 3, 3, 455, 3, 32, 3, 42]"
      ]
     },
     "execution_count": 154,
     "metadata": {},
     "output_type": "execute_result"
    }
   ],
   "source": [
    "l"
   ]
  },
  {
   "cell_type": "code",
   "execution_count": 155,
   "id": "6fc17268-e0fd-4ecd-a192-e4fd0c35331b",
   "metadata": {},
   "outputs": [
    {
     "data": {
      "text/plain": [
       "['pooja', 'l', 'h', 'p', 1, 3, 2, 42, 23, 1, 1, 32, 3, 3, 455, 3, 32, 3, 42]"
      ]
     },
     "execution_count": 155,
     "metadata": {},
     "output_type": "execute_result"
    }
   ],
   "source": [
    "l"
   ]
  },
  {
   "cell_type": "code",
   "execution_count": 156,
   "id": "3891116c-f3c3-4cba-96ae-048402aad4d7",
   "metadata": {},
   "outputs": [],
   "source": [
    "li=[1,2,1,2,1,2,3,3,31,1,1,3,2,\"thyd\",\"hudgs\"]\n",
    "lii=[3,45,53,23,231211,1,1,3,2,3,223,23,32]"
   ]
  },
  {
   "cell_type": "code",
   "execution_count": 157,
   "id": "3c5d5a1b-6e46-46c6-a362-0bb870945c3a",
   "metadata": {},
   "outputs": [],
   "source": [
    "li.extend(lii)"
   ]
  },
  {
   "cell_type": "code",
   "execution_count": 158,
   "id": "22306b3c-a661-433f-b297-efb84f891ad3",
   "metadata": {},
   "outputs": [
    {
     "data": {
      "text/plain": [
       "[1,\n",
       " 2,\n",
       " 1,\n",
       " 2,\n",
       " 1,\n",
       " 2,\n",
       " 3,\n",
       " 3,\n",
       " 31,\n",
       " 1,\n",
       " 1,\n",
       " 3,\n",
       " 2,\n",
       " 'thyd',\n",
       " 'hudgs',\n",
       " 3,\n",
       " 45,\n",
       " 53,\n",
       " 23,\n",
       " 231211,\n",
       " 1,\n",
       " 1,\n",
       " 3,\n",
       " 2,\n",
       " 3,\n",
       " 223,\n",
       " 23,\n",
       " 32]"
      ]
     },
     "execution_count": 158,
     "metadata": {},
     "output_type": "execute_result"
    }
   ],
   "source": [
    "li"
   ]
  },
  {
   "cell_type": "code",
   "execution_count": 159,
   "id": "a8c20a48-12ec-4e6b-a2c1-d0d5a28eca13",
   "metadata": {},
   "outputs": [],
   "source": [
    "d=set(li)"
   ]
  },
  {
   "cell_type": "code",
   "execution_count": 160,
   "id": "3c83e8a4-4d8d-42da-a437-afb845bded38",
   "metadata": {},
   "outputs": [
    {
     "data": {
      "text/plain": [
       "list"
      ]
     },
     "execution_count": 160,
     "metadata": {},
     "output_type": "execute_result"
    }
   ],
   "source": [
    "type(li)"
   ]
  },
  {
   "cell_type": "code",
   "execution_count": 161,
   "id": "8c21a270-3c76-43b7-8bb1-e1232ab2af17",
   "metadata": {},
   "outputs": [],
   "source": [
    "s={}"
   ]
  },
  {
   "cell_type": "code",
   "execution_count": 162,
   "id": "c5c8d509-0ea3-4b9e-a201-e9af1af79c1b",
   "metadata": {},
   "outputs": [
    {
     "data": {
      "text/plain": [
       "dict"
      ]
     },
     "execution_count": 162,
     "metadata": {},
     "output_type": "execute_result"
    }
   ],
   "source": [
    "type(s)"
   ]
  },
  {
   "cell_type": "code",
   "execution_count": 163,
   "id": "217e1adf-7ee3-4ae6-b006-8eca910dc6ce",
   "metadata": {},
   "outputs": [],
   "source": [
    "s ={1,2,1,2,1,2,3,1,1,3,4,4,\"jh\",2,1,13,123,121,1,2}"
   ]
  },
  {
   "cell_type": "code",
   "execution_count": 164,
   "id": "fcbc0c5c-8302-44a9-828a-4ec9dc77170f",
   "metadata": {},
   "outputs": [
    {
     "data": {
      "text/plain": [
       "{1, 121, 123, 13, 2, 3, 4, 'jh'}"
      ]
     },
     "execution_count": 164,
     "metadata": {},
     "output_type": "execute_result"
    }
   ],
   "source": [
    "s"
   ]
  },
  {
   "cell_type": "code",
   "execution_count": 165,
   "id": "572eb225-00e2-4c1c-bbe1-3bb199feaf41",
   "metadata": {},
   "outputs": [
    {
     "data": {
      "text/plain": [
       "set"
      ]
     },
     "execution_count": 165,
     "metadata": {},
     "output_type": "execute_result"
    }
   ],
   "source": [
    "type(s)"
   ]
  },
  {
   "cell_type": "code",
   "execution_count": 166,
   "id": "f3db25dc-1eca-42fb-9a36-b9805078d57d",
   "metadata": {},
   "outputs": [],
   "source": [
    "s.remove(4)"
   ]
  },
  {
   "cell_type": "code",
   "execution_count": 167,
   "id": "8f5b0960-c50e-4d8f-99d5-d791e4834900",
   "metadata": {},
   "outputs": [
    {
     "data": {
      "text/plain": [
       "{1, 121, 123, 13, 2, 3, 'jh'}"
      ]
     },
     "execution_count": 167,
     "metadata": {},
     "output_type": "execute_result"
    }
   ],
   "source": [
    "s"
   ]
  },
  {
   "cell_type": "code",
   "execution_count": 168,
   "id": "8a0f998b-c8dc-496e-9c8a-26202d1928c9",
   "metadata": {},
   "outputs": [
    {
     "data": {
      "text/plain": [
       "{1, 121, 123, 13, 2, 3, 'jh'}"
      ]
     },
     "execution_count": 168,
     "metadata": {},
     "output_type": "execute_result"
    }
   ],
   "source": [
    "s"
   ]
  },
  {
   "cell_type": "code",
   "execution_count": 169,
   "id": "2eeb48aa-3c60-4b9f-a6bf-8475a7b37b35",
   "metadata": {},
   "outputs": [],
   "source": [
    "s.discard(45)\n"
   ]
  },
  {
   "cell_type": "code",
   "execution_count": 170,
   "id": "933bf81a-df40-492a-9b2e-95dcd0d5360f",
   "metadata": {},
   "outputs": [
    {
     "ename": "KeyError",
     "evalue": "45",
     "output_type": "error",
     "traceback": [
      "\u001b[1;31m---------------------------------------------------------------------------\u001b[0m",
      "\u001b[1;31mKeyError\u001b[0m                                  Traceback (most recent call last)",
      "Cell \u001b[1;32mIn[170], line 1\u001b[0m\n\u001b[1;32m----> 1\u001b[0m s\u001b[38;5;241m.\u001b[39mremove(\u001b[38;5;241m45\u001b[39m)\n",
      "\u001b[1;31mKeyError\u001b[0m: 45"
     ]
    }
   ],
   "source": [
    "s.remove(45)"
   ]
  },
  {
   "cell_type": "code",
   "execution_count": null,
   "id": "93c15d02-196e-4aa9-a9cf-bb33f45689f2",
   "metadata": {},
   "outputs": [],
   "source": [
    "{1,1}"
   ]
  },
  {
   "cell_type": "code",
   "execution_count": null,
   "id": "e6a814a0-baa6-4f93-b091-e363ba472783",
   "metadata": {},
   "outputs": [],
   "source": [
    "#disctionary : (key,value)\n",
    "#"
   ]
  },
  {
   "cell_type": "code",
   "execution_count": 459,
   "id": "f6a86afc-afc7-49ac-8830-031ac39e2608",
   "metadata": {},
   "outputs": [],
   "source": [
    "d={}"
   ]
  },
  {
   "cell_type": "code",
   "execution_count": 461,
   "id": "d13c42c6-88a2-405f-9a46-112bb626778f",
   "metadata": {},
   "outputs": [
    {
     "data": {
      "text/plain": [
       "dict"
      ]
     },
     "execution_count": 461,
     "metadata": {},
     "output_type": "execute_result"
    }
   ],
   "source": [
    "type(d)"
   ]
  },
  {
   "cell_type": "code",
   "execution_count": 465,
   "id": "7a78f720-b1b0-41a3-ade8-08b42c25078f",
   "metadata": {},
   "outputs": [],
   "source": [
    "d ={4:\"pooja\"}"
   ]
  },
  {
   "cell_type": "code",
   "execution_count": 467,
   "id": "e3415c80-1b93-4852-9906-0271674cc087",
   "metadata": {},
   "outputs": [
    {
     "data": {
      "text/plain": [
       "dict"
      ]
     },
     "execution_count": 467,
     "metadata": {},
     "output_type": "execute_result"
    }
   ],
   "source": [
    "\n",
    "type(d)"
   ]
  },
  {
   "cell_type": "code",
   "execution_count": 469,
   "id": "af73b611-8ddf-4070-b6c8-237ae6dd8738",
   "metadata": {},
   "outputs": [],
   "source": [
    "d1={\"key1\": 5445, \"key2\": 4545}"
   ]
  },
  {
   "cell_type": "code",
   "execution_count": 471,
   "id": "e005901a-1c6b-4caa-946e-ad10b9e9a456",
   "metadata": {},
   "outputs": [
    {
     "data": {
      "text/plain": [
       "{'key1': 5445, 'key2': 4545}"
      ]
     },
     "execution_count": 471,
     "metadata": {},
     "output_type": "execute_result"
    }
   ],
   "source": [
    "d1"
   ]
  },
  {
   "cell_type": "code",
   "execution_count": 473,
   "id": "ad2739e7-cbb5-4ab0-a223-aa6c3281405e",
   "metadata": {},
   "outputs": [
    {
     "data": {
      "text/plain": [
       "5445"
      ]
     },
     "execution_count": 473,
     "metadata": {},
     "output_type": "execute_result"
    }
   ],
   "source": [
    "d1['key1']"
   ]
  },
  {
   "cell_type": "code",
   "execution_count": 475,
   "id": "44041449-f937-4023-9fa1-12468c4504d6",
   "metadata": {},
   "outputs": [],
   "source": [
    "d2={_6 :[1,\"pooja\",2,45,46,8768,]}"
   ]
  },
  {
   "cell_type": "code",
   "execution_count": 477,
   "id": "97de4997-c43c-453a-b148-3226ac23e7ca",
   "metadata": {},
   "outputs": [],
   "source": [
    "d3={\"key\":{1,3,5,7}}"
   ]
  },
  {
   "cell_type": "code",
   "execution_count": 479,
   "id": "582c1d90-f028-4b64-9b98-ed80ec85ff59",
   "metadata": {},
   "outputs": [
    {
     "data": {
      "text/plain": [
       "{'key': {1, 3, 5, 7}}"
      ]
     },
     "execution_count": 479,
     "metadata": {},
     "output_type": "execute_result"
    }
   ],
   "source": [
    "d3"
   ]
  },
  {
   "cell_type": "code",
   "execution_count": null,
   "id": "37bdbc38-7188-4d31-adeb-548216ddc207",
   "metadata": {},
   "outputs": [],
   "source": [
    "#python programming\n",
    "#if, for, while\n"
   ]
  },
  {
   "cell_type": "code",
   "execution_count": null,
   "id": "5a8d2d8a-5ea8-4bbe-9ee6-44daad6601be",
   "metadata": {},
   "outputs": [],
   "source": [
    "s= \"this is basic python class\"\n",
    "len(s\n",
    ")"
   ]
  },
  {
   "cell_type": "code",
   "execution_count": null,
   "id": "04403acc-390d-47d0-9437-d143946ac902",
   "metadata": {},
   "outputs": [],
   "source": [
    "count = 0\n",
    "for i in s :\n",
    "    #count = count+1 or\n",
    "    count+=1\n",
    "print(count)\n"
   ]
  },
  {
   "cell_type": "code",
   "execution_count": null,
   "id": "48f769f8-9044-4f51-90be-cbde77c4cbef",
   "metadata": {},
   "outputs": [],
   "source": [
    "a= 10"
   ]
  },
  {
   "cell_type": "code",
   "execution_count": null,
   "id": "2d20a70d-aba6-48e7-b68e-7f70378f2937",
   "metadata": {},
   "outputs": [],
   "source": [
    "if a < 15:\n",
    "    pass"
   ]
  },
  {
   "cell_type": "code",
   "execution_count": null,
   "id": "ea8693dc-eef9-4d68-9912-f362a5741757",
   "metadata": {},
   "outputs": [],
   "source": [
    "if a < 15:\n",
    "    print(\"my name is pooja\")"
   ]
  },
  {
   "cell_type": "code",
   "execution_count": null,
   "id": "59e136fa-2dcc-447e-a5ba-519334745cf0",
   "metadata": {},
   "outputs": [],
   "source": [
    "if 24 < 15:\n",
    "    print(\"my name is pooja\")"
   ]
  },
  {
   "cell_type": "code",
   "execution_count": null,
   "id": "da09530c-54cb-4d7b-ac27-455ec9317d35",
   "metadata": {},
   "outputs": [],
   "source": [
    "24 < 15\n"
   ]
  },
  {
   "cell_type": "code",
   "execution_count": null,
   "id": "a88a54f9-a12a-4e28-a149-294f6874cd4a",
   "metadata": {},
   "outputs": [],
   "source": [
    "if 10 < 3:\n",
    "    print(\"10 is lesser then 3\")\n",
    "else :\n",
    "    print(\"if statement is wrong\")"
   ]
  },
  {
   "cell_type": "code",
   "execution_count": null,
   "id": "56491e56-d3f6-4568-a493-d04feb85035b",
   "metadata": {},
   "outputs": [],
   "source": [
    "income = 100\n",
    "if income < 50 :\n",
    "    print (\"i will be able to buy phone\")\n",
    "elif income <70 :\n",
    "    print (\"i will be able to buy a car\")\n",
    "elif income < 90 :\n",
    "    print(\"i wont be able to buy anything\")\n",
    "else :\n",
    "    print(\"i wont be able to buy anything\")"
   ]
  },
  {
   "cell_type": "code",
   "execution_count": null,
   "id": "3e4f583f-f3cd-468a-a2ad-ec244361c400",
   "metadata": {},
   "outputs": [],
   "source": [
    "income = int(input())\n",
    "if income < 50 :\n",
    "    print (\"i will be able to buy phone\")\n",
    "elif income <70 :\n",
    "    print (\"i will be able to buy a car\")\n",
    "elif income < 90 :\n",
    "    print(\"i wont be able to buy anything\")\n",
    "else :\n",
    "    print(\"i wont be able to buy anything\")"
   ]
  },
  {
   "cell_type": "code",
   "execution_count": null,
   "id": "4f6342f1-d50c-4447-9699-f769d3e9c191",
   "metadata": {},
   "outputs": [],
   "source": [
    "Total_price = int(input())\n",
    "if Total_price > 20000 :\n",
    "    discount = Total_price * .20\n",
    "    print(\"Discount will be\" , discount)\n",
    "elif Total_price >= 7000 :\n",
    "    discount = Total_price * .05\n",
    "    print(\"Discount will be\" , discount)\n",
    "else :\n",
    "    print(\"wont be able to give any discount\")\n",
    "     "
   ]
  },
  {
   "cell_type": "code",
   "execution_count": null,
   "id": "cd2058c2-0d8e-41a3-a5d6-1eb9bc106d9d",
   "metadata": {},
   "outputs": [],
   "source": [
    "coup = \"POOJA5\"\n",
    "if coup == \"POOJA5\":\n",
    "    print(\"you will be able to get a discount of 5%\")\n",
    "    paid_amount =7080 -7080 *.05\n",
    "    print(\"you will be able to get one neuron with this amount\", paid_amount)\n",
    "else :\n",
    "    print(\"kindly use a valid coupoun code \")\n",
    "   \n"
   ]
  },
  {
   "cell_type": "code",
   "execution_count": null,
   "id": "dee59b6f-36fc-41c7-adfe-6220894800d7",
   "metadata": {},
   "outputs": [],
   "source": [
    "coup = input()\n",
    "if coup == \"POOJA5\":\n",
    "    print(\"you will be able to get a discount of 5%\")\n",
    "    paid_amount =7080 -7080 *.05\n",
    "    print(\"you will be able to get one neuron with this amount\", paid_amount)\n",
    "else :\n",
    "    print(\"kindly use a valid coupoun code \")\n",
    "   \n"
   ]
  },
  {
   "cell_type": "code",
   "execution_count": null,
   "id": "5bfaaee9-3b38-4854-bbf9-46f82ff42b12",
   "metadata": {},
   "outputs": [],
   "source": [
    "study_hour = int(input())\n",
    "if study_hour < 1:\n",
    "    print(\"it may take 8-9 months of time to make a transition\")\n",
    "elif study_hour < 4 and study_hour > 1:\n",
    "    print(\"it may take 6 month for transition\")\n",
    "elif study_hour > 10:\n",
    "    print (\"it will take 3 month of time for transition\")\n",
    "else: \n",
    "    print(\"it will be difficult\")\n",
    "    "
   ]
  },
  {
   "cell_type": "code",
   "execution_count": null,
   "id": "d30b0fa1-1620-47e0-a486-dab6d97ad6a5",
   "metadata": {},
   "outputs": [],
   "source": [
    "a = 9\n",
    "if a == 9: print (\"valid\")"
   ]
  },
  {
   "cell_type": "code",
   "execution_count": null,
   "id": "94856895-a703-4cbe-9ee4-4ce2a2a0936e",
   "metadata": {},
   "outputs": [],
   "source": [
    "s= input(\"enter a string to start\")\n",
    "course = input(\" enter a course name\")\n",
    "service = input(\"enter a service name\")\n",
    "if s == \"oneneuron\":\n",
    "    if course == \"DSA\":\n",
    "        print(\"yes its available under one neuron and in multiple mode for job  preparation and core concept\")\n",
    "    elif course == \"Blockchain\":\n",
    "        print (\"this is not available as of now, kindly raise your demand and we will fulfil in 60 days\")\n",
    "    elif course == \"FSDS\":\n",
    "        print (\"yes its available, you can start learning\")\n",
    "    else :\n",
    "        print (\"this course is not available kindly raise your demand\")\n",
    "elif s == \"oneneuronservice\":\n",
    "    if service == \"courserequest\":\n",
    "        print(\"NOTE: Dear Learner, you can raise demand related to any course, and we will fulfil in 60 days \")\n",
    "    elif service  == \"module\":\n",
    "        print(\"*NOTE: Dear learer, you can raise demand related to any new course module, and we fulfil in 30 days\")\n",
    "    elif service == \"doubt\":\n",
    "        print(\"NOTE: Dear learner, you can raise demand related to any doubt clearig and we will fulfil in 24hrs\" )\n",
    "    elif service == \"workwithus\":\n",
    "        print(\"NOTE: Dear Learner, you can raise the demand to work with our team; our HR will evaluate\")\n",
    "    else :\n",
    "        print(\"kindly provide us your feedback and we will fulfill\")\n",
    "else :\n",
    "    print(\"kindly connect with our team\")\n",
    "        \n",
    "        "
   ]
  },
  {
   "cell_type": "code",
   "execution_count": null,
   "id": "000d0368-5c26-4119-86d1-40405ca664f4",
   "metadata": {},
   "outputs": [],
   "source": [
    "#while statement\n",
    "#for loop"
   ]
  },
  {
   "cell_type": "code",
   "execution_count": null,
   "id": "46a9e016-0d25-432a-adb1-c39f2e86ff40",
   "metadata": {},
   "outputs": [],
   "source": [
    "l = [1,2,3,4,5,6,7]\n",
    "for i in l:\n",
    "    print(i)\n",
    "    "
   ]
  },
  {
   "cell_type": "code",
   "execution_count": null,
   "id": "ffbbe01b-be76-415b-a5f8-55e4783414f5",
   "metadata": {},
   "outputs": [],
   "source": [
    "l = [1,2,3,4,5,6,7]\n",
    "for i in l:\n",
    "    print(i*i)\n",
    "    "
   ]
  },
  {
   "cell_type": "code",
   "execution_count": null,
   "id": "8b92a2e3-9d29-4d01-a679-4b1c72e64aff",
   "metadata": {},
   "outputs": [],
   "source": [
    "for i in \"pooja\" :\n",
    "    print(i)"
   ]
  },
  {
   "cell_type": "code",
   "execution_count": null,
   "id": "c8bbfe89-61fb-4b14-b715-ec53ded247bc",
   "metadata": {},
   "outputs": [],
   "source": [
    "t =(1,2,3,4,5,6,6)\n",
    "for i in t:\n",
    "    print(i)"
   ]
  },
  {
   "cell_type": "code",
   "execution_count": null,
   "id": "7495336c-0e52-479e-8086-5f9ccd1f71e2",
   "metadata": {},
   "outputs": [],
   "source": [
    "l=[1,4,5,6,4.7j,\"pooja\"]\n",
    "for i in l:\n",
    "    print(type(i), \"type of\", i)"
   ]
  },
  {
   "cell_type": "code",
   "execution_count": null,
   "id": "242ae788-abe5-47cb-bc7a-2de5fb3f0a41",
   "metadata": {},
   "outputs": [],
   "source": [
    "l=[1,4,5.6]\n",
    "for i in l:\n",
    "    print(i+2)"
   ]
  },
  {
   "cell_type": "code",
   "execution_count": null,
   "id": "076fb73f-22f8-4874-804f-599059e3a0ec",
   "metadata": {},
   "outputs": [],
   "source": [
    "l=[1,4,5.6]\n",
    "l1=[]\n",
    "for i in l:\n",
    "    print(i+2)\n",
    "    l1.append(i+2)\n",
    "print (l1)"
   ]
  },
  {
   "cell_type": "code",
   "execution_count": null,
   "id": "dcd924fc-ddd5-4e81-a966-5814f9c32c39",
   "metadata": {},
   "outputs": [],
   "source": [
    "l=[2,45,78,12,\"pooja\",6+7j,[56,67,78,\"sudh\"]]\n",
    "for i in l:\n",
    "    if type (i) == int:\n",
    "        print(i)\n",
    "    elif type(i)== list:\n",
    "        for j in i:\n",
    "            if type(j) == str:\n",
    "                print(j)"
   ]
  },
  {
   "cell_type": "code",
   "execution_count": null,
   "id": "d6ab8586-df53-4cd4-8e73-84ec666a20de",
   "metadata": {},
   "outputs": [],
   "source": [
    "#range "
   ]
  },
  {
   "cell_type": "code",
   "execution_count": null,
   "id": "d5842127-8034-439a-baae-073847443900",
   "metadata": {},
   "outputs": [],
   "source": [
    "#q1. try to print index of all the element\n",
    "#q2. try to extract all the list of char if element is string\n",
    "#q3. try to return a list after doing a square af all the int element\n",
    "l=[2,45,78,12,\"pooja\",6+7j,[56,67,78,\"sudh\"]]\n",
    "for i in range(len(l)):\n",
    "    print(\"index\" , i, \"for an element\", l[i])\n",
    "\n",
    "for i in l :\n",
    "    if type(i)== str:\n",
    "        l1 = []\n",
    "        for j in i :\n",
    "            l1.append(j)\n",
    "        print(l1)\n",
    "\n",
    "\n",
    "l2=[]\n",
    "for i in l :\n",
    "    if type(i)== int:\n",
    "        l2.append(i**2)\n",
    "    elif type(i)==list:\n",
    "        for j in i :\n",
    "            if type(j)== int:\n",
    "                l2.append(j*j)\n",
    "        print(l2)\n",
    "\n",
    "\n",
    "                \n",
    "                \n",
    "\n"
   ]
  },
  {
   "cell_type": "code",
   "execution_count": null,
   "id": "6c44eb81-4820-4df5-90c5-9a7026603ecb",
   "metadata": {},
   "outputs": [],
   "source": [
    "#enumerate\n",
    "for i in enumerate(l):\n",
    "    print(i)\n"
   ]
  },
  {
   "cell_type": "code",
   "execution_count": null,
   "id": "2f3bea5d-f277-45a2-8810-b91f93a6ca59",
   "metadata": {},
   "outputs": [],
   "source": [
    "#enumerate\n",
    "for i,j in enumerate(l):\n",
    "    print(i,j)\n"
   ]
  },
  {
   "cell_type": "code",
   "execution_count": null,
   "id": "04cca459-908d-4dbe-bdda-bce3c3e586df",
   "metadata": {},
   "outputs": [],
   "source": [
    "s= \"ineuron\"\n",
    "for i in s:\n",
    "    print(i)"
   ]
  },
  {
   "cell_type": "code",
   "execution_count": null,
   "id": "b132b083-c020-4474-86de-9e84b92a5ad7",
   "metadata": {},
   "outputs": [],
   "source": [
    "#for and else loop"
   ]
  },
  {
   "cell_type": "code",
   "execution_count": null,
   "id": "7be2abc0-46b0-416f-9071-d3d7b306ea01",
   "metadata": {},
   "outputs": [],
   "source": [
    "l= ['name', 'emailid', 'phoneno','address']\n",
    "for i in l:\n",
    "    print(i)\n",
    "else :\n",
    "    print(\"if for loop is going to exaust parsing thru itself then it will come to else\")"
   ]
  },
  {
   "cell_type": "code",
   "execution_count": null,
   "id": "2e94a22b-2222-4ba9-ae99-7513a526d452",
   "metadata": {},
   "outputs": [],
   "source": [
    "['name', 'emailid', 'phoneno','address']"
   ]
  },
  {
   "cell_type": "code",
   "execution_count": null,
   "id": "1289051c-693e-4ce3-9a69-7fda7124449a",
   "metadata": {},
   "outputs": [],
   "source": [
    "for i in l :\n",
    "    if i == \"emailid\":\n",
    "        break\n",
    "    print(i)\n",
    "else:\n",
    "    print(\"check this statement\")\n",
    "      \n",
    "\n",
    "        "
   ]
  },
  {
   "cell_type": "code",
   "execution_count": null,
   "id": "9e916318-bbb2-4134-8e03-44feb24483a1",
   "metadata": {},
   "outputs": [],
   "source": [
    "for i in l :\n",
    "    if i == \"emailid\":\n",
    "        pass\n",
    "    print(i)\n",
    "else:\n",
    "    print(\"check this statement\")\n",
    "      \n",
    "\n",
    "        "
   ]
  },
  {
   "cell_type": "code",
   "execution_count": 171,
   "id": "f2af6a9d-eb8d-4e2b-9544-1a72ee5060bd",
   "metadata": {},
   "outputs": [
    {
     "name": "stdout",
     "output_type": "stream",
     "text": [
      "p\n",
      "o\n",
      "o\n"
     ]
    }
   ],
   "source": [
    "p = \"pooja\"\n",
    "for i in p:\n",
    "    if i == \"j\":\n",
    "        break\n",
    "    print(i)\n",
    "else :\n",
    "    print(\"dont execute is unless and untill it is not printing my name\")"
   ]
  },
  {
   "cell_type": "code",
   "execution_count": 173,
   "id": "52176ef1-5b74-4c3a-9d83-914e4c777800",
   "metadata": {},
   "outputs": [],
   "source": [
    "#while loop"
   ]
  },
  {
   "cell_type": "code",
   "execution_count": 1,
   "id": "e63c2374-5892-4a42-bde3-274cc4eb8e05",
   "metadata": {},
   "outputs": [
    {
     "name": "stdout",
     "output_type": "stream",
     "text": [
      "1\n",
      "2\n",
      "3\n",
      "4\n"
     ]
    }
   ],
   "source": [
    "a = 1\n",
    "while a < 5:\n",
    "    print(a)\n",
    "    if a == 4:\n",
    "        break\n",
    "    a = a+1"
   ]
  },
  {
   "cell_type": "code",
   "execution_count": 5,
   "id": "a2c1c730-18a4-4d7e-9104-227f875b3b6b",
   "metadata": {},
   "outputs": [
    {
     "name": "stdout",
     "output_type": "stream",
     "text": [
      "1\n",
      "2\n",
      "3\n"
     ]
    }
   ],
   "source": [
    "a= 1\n",
    "while a < 5:\n",
    "    print(a)\n",
    "    if a == 3:\n",
    "        continue\n",
    "    a = a+1"
   ]
  },
  {
   "cell_type": "code",
   "execution_count": 7,
   "id": "a752b004-6dc3-4712-a4c2-29669d3afafc",
   "metadata": {},
   "outputs": [
    {
     "name": "stdout",
     "output_type": "stream",
     "text": [
      "1\n",
      "2\n",
      "3\n",
      "4\n"
     ]
    }
   ],
   "source": [
    "a= 1\n",
    "while a < 5:\n",
    "    print(a)\n",
    "    a = a+1\n",
    "    if a == 3:\n",
    "        continue\n",
    "    "
   ]
  },
  {
   "cell_type": "code",
   "execution_count": 9,
   "id": "8ed29b7e-47e5-4bbf-ad00-a046a3388b45",
   "metadata": {},
   "outputs": [],
   "source": [
    "while a < 5 :\n",
    "    pass\n"
   ]
  },
  {
   "cell_type": "code",
   "execution_count": 13,
   "id": "ce243821-4bbe-41ab-b1f9-22b33bcfc9f5",
   "metadata": {},
   "outputs": [],
   "source": [
    "while a< 4:\n",
    "    break"
   ]
  },
  {
   "cell_type": "code",
   "execution_count": 15,
   "id": "2e832c82-6c48-42c7-a993-135bfcd21575",
   "metadata": {},
   "outputs": [],
   "source": [
    "while a < 4:\n",
    "    continue"
   ]
  },
  {
   "cell_type": "code",
   "execution_count": null,
   "id": "67af7d65-bf8a-48bd-a866-c910ca13f541",
   "metadata": {},
   "outputs": [],
   "source": [
    "#range : give range without upper bound"
   ]
  },
  {
   "cell_type": "code",
   "execution_count": 4,
   "id": "d5e8721f-af91-4021-bd0d-a11d1784cae3",
   "metadata": {},
   "outputs": [
    {
     "data": {
      "text/plain": [
       "[0, 1, 2, 3, 4, 5]"
      ]
     },
     "execution_count": 4,
     "metadata": {},
     "output_type": "execute_result"
    }
   ],
   "source": [
    "list(range(6))"
   ]
  },
  {
   "cell_type": "code",
   "execution_count": 11,
   "id": "c772d2ac-9b34-4bca-9ba9-33c97d5538a7",
   "metadata": {},
   "outputs": [
    {
     "data": {
      "text/plain": [
       "[1, 2, 3, 4, 5, 6]"
      ]
     },
     "execution_count": 11,
     "metadata": {},
     "output_type": "execute_result"
    }
   ],
   "source": [
    "list(range (1,7))"
   ]
  },
  {
   "cell_type": "code",
   "execution_count": 13,
   "id": "25a4183a-5ee8-484b-a5b4-ef72354abe9e",
   "metadata": {},
   "outputs": [
    {
     "data": {
      "text/plain": [
       "[4,\n",
       " 5,\n",
       " 6,\n",
       " 7,\n",
       " 8,\n",
       " 9,\n",
       " 10,\n",
       " 11,\n",
       " 12,\n",
       " 13,\n",
       " 14,\n",
       " 15,\n",
       " 16,\n",
       " 17,\n",
       " 18,\n",
       " 19,\n",
       " 20,\n",
       " 21,\n",
       " 22,\n",
       " 23,\n",
       " 24,\n",
       " 25,\n",
       " 26,\n",
       " 27,\n",
       " 28,\n",
       " 29,\n",
       " 30,\n",
       " 31,\n",
       " 32,\n",
       " 33,\n",
       " 34,\n",
       " 35,\n",
       " 36,\n",
       " 37,\n",
       " 38,\n",
       " 39,\n",
       " 40,\n",
       " 41,\n",
       " 42,\n",
       " 43,\n",
       " 44,\n",
       " 45,\n",
       " 46,\n",
       " 47,\n",
       " 48,\n",
       " 49,\n",
       " 50,\n",
       " 51,\n",
       " 52,\n",
       " 53,\n",
       " 54,\n",
       " 55,\n",
       " 56,\n",
       " 57,\n",
       " 58,\n",
       " 59,\n",
       " 60,\n",
       " 61,\n",
       " 62,\n",
       " 63,\n",
       " 64,\n",
       " 65,\n",
       " 66,\n",
       " 67,\n",
       " 68,\n",
       " 69,\n",
       " 70,\n",
       " 71,\n",
       " 72,\n",
       " 73,\n",
       " 74,\n",
       " 75,\n",
       " 76,\n",
       " 77,\n",
       " 78,\n",
       " 79,\n",
       " 80,\n",
       " 81,\n",
       " 82,\n",
       " 83,\n",
       " 84,\n",
       " 85,\n",
       " 86,\n",
       " 87,\n",
       " 88,\n",
       " 89,\n",
       " 90,\n",
       " 91,\n",
       " 92,\n",
       " 93,\n",
       " 94,\n",
       " 95,\n",
       " 96,\n",
       " 97,\n",
       " 98,\n",
       " 99]"
      ]
     },
     "execution_count": 13,
     "metadata": {},
     "output_type": "execute_result"
    }
   ],
   "source": [
    "list(range(4,100))"
   ]
  },
  {
   "cell_type": "code",
   "execution_count": 15,
   "id": "6d38f190-4a13-48ed-bda2-467b48ac47ba",
   "metadata": {},
   "outputs": [
    {
     "data": {
      "text/plain": [
       "[3,\n",
       " 5,\n",
       " 7,\n",
       " 9,\n",
       " 11,\n",
       " 13,\n",
       " 15,\n",
       " 17,\n",
       " 19,\n",
       " 21,\n",
       " 23,\n",
       " 25,\n",
       " 27,\n",
       " 29,\n",
       " 31,\n",
       " 33,\n",
       " 35,\n",
       " 37,\n",
       " 39,\n",
       " 41,\n",
       " 43,\n",
       " 45,\n",
       " 47,\n",
       " 49]"
      ]
     },
     "execution_count": 15,
     "metadata": {},
     "output_type": "execute_result"
    }
   ],
   "source": [
    "list(range(3,50,2))"
   ]
  },
  {
   "cell_type": "code",
   "execution_count": 23,
   "id": "e8fad7a9-c7fe-4964-9de0-e24708579156",
   "metadata": {},
   "outputs": [
    {
     "data": {
      "text/plain": [
       "[]"
      ]
     },
     "execution_count": 23,
     "metadata": {},
     "output_type": "execute_result"
    }
   ],
   "source": [
    "list(range(3, 10, -1))"
   ]
  },
  {
   "cell_type": "code",
   "execution_count": 25,
   "id": "7456d7cc-1c61-49a5-95c6-71223d5f1b83",
   "metadata": {},
   "outputs": [
    {
     "data": {
      "text/plain": [
       "[10, 9, 8, 7]"
      ]
     },
     "execution_count": 25,
     "metadata": {},
     "output_type": "execute_result"
    }
   ],
   "source": [
    "list(range(10,6,-1))"
   ]
  },
  {
   "cell_type": "code",
   "execution_count": 35,
   "id": "d7a3a1af-81c3-4067-8e1e-2ab1bc031207",
   "metadata": {},
   "outputs": [
    {
     "name": "stdout",
     "output_type": "stream",
     "text": [
      "10\n",
      "8\n",
      "6\n",
      "4\n",
      "2\n",
      "0\n",
      "-2\n",
      "-4\n"
     ]
    }
   ],
   "source": [
    "for i in (range(10,-5,-2)):\n",
    "    print(i)"
   ]
  },
  {
   "cell_type": "code",
   "execution_count": 98,
   "id": "ce464e80-7dd0-40f6-92c2-1d8dc10b19aa",
   "metadata": {},
   "outputs": [
    {
     "name": "stdout",
     "output_type": "stream",
     "text": [
      "pooja  \n",
      "pooja  pooja  \n",
      "pooja  pooja  pooja  \n",
      "pooja  pooja  pooja  pooja  \n",
      "pooja  pooja  pooja  pooja  pooja  \n"
     ]
    }
   ],
   "source": [
    "n = 5\n",
    "for i in range (0,n):\n",
    "    for j in range(0,i+1):\n",
    "        print(\"pooja \" , end =\" \")\n",
    "    print(\"\\r\")"
   ]
  },
  {
   "cell_type": "code",
   "execution_count": 102,
   "id": "b1e1ca66-6c63-4b9b-96d5-757c5f5bf979",
   "metadata": {},
   "outputs": [
    {
     "name": "stdout",
     "output_type": "stream",
     "text": [
      "i\n",
      "n\n",
      "e\n",
      "u\n",
      "r\n",
      "o\n",
      "n\n"
     ]
    }
   ],
   "source": [
    "s =\"ineuron\"\n",
    "for i in s:\n",
    "    print(i)"
   ]
  },
  {
   "cell_type": "code",
   "execution_count": 120,
   "id": "6bf5c365-c75e-4be3-9353-c172b0ce6995",
   "metadata": {},
   "outputs": [
    {
     "name": "stdout",
     "output_type": "stream",
     "text": [
      "0 3\n",
      "1 4\n",
      "2 4\n",
      "3 5\n",
      "4 6\n",
      "5 7\n",
      "6 7\n"
     ]
    }
   ],
   "source": [
    "t =(3,4,4,5,6,7,7)\n",
    "for i in range(len(t)):\n",
    "    print(i, t[i] )"
   ]
  },
  {
   "cell_type": "code",
   "execution_count": 127,
   "id": "3e656f47-cdfa-418d-944b-26c92c0f2c9b",
   "metadata": {},
   "outputs": [
    {
     "data": {
      "text/plain": [
       "(7, 7, 6, 5, 4, 4, 3)"
      ]
     },
     "execution_count": 127,
     "metadata": {},
     "output_type": "execute_result"
    }
   ],
   "source": [
    "t[::-1]"
   ]
  },
  {
   "cell_type": "code",
   "execution_count": 141,
   "id": "57e82c5c-fee3-4029-99c4-0801a54184ed",
   "metadata": {},
   "outputs": [
    {
     "data": {
      "text/plain": [
       "[7, 6, 5, 4, 3, 2, 1]"
      ]
     },
     "execution_count": 141,
     "metadata": {},
     "output_type": "execute_result"
    }
   ],
   "source": [
    "list(range(len(t), 0, -1))"
   ]
  },
  {
   "cell_type": "code",
   "execution_count": 153,
   "id": "e97bfa38-3857-418a-a09c-6890ead9231d",
   "metadata": {},
   "outputs": [
    {
     "name": "stdout",
     "output_type": "stream",
     "text": [
      "7\n",
      "7\n",
      "6\n",
      "5\n",
      "4\n",
      "4\n",
      "3\n"
     ]
    }
   ],
   "source": [
    "for i in range(len(t)-1, -1,-1):\n",
    "    print(t[i])\n"
   ]
  },
  {
   "cell_type": "code",
   "execution_count": 155,
   "id": "e7ce4f3b-cdcd-4efb-bb6e-88bffb60cf7a",
   "metadata": {},
   "outputs": [],
   "source": [
    "d= {\"a\": \"fhgs\", \"b\": \"hdjss\", \"c\": [1,2,3,3], \"d\": (3,5,6,6), \"e\" : \"pooja\"}"
   ]
  },
  {
   "cell_type": "code",
   "execution_count": 159,
   "id": "673182a3-c378-4100-bfdd-1a1e78f9df27",
   "metadata": {},
   "outputs": [
    {
     "data": {
      "text/plain": [
       "(3, 5, 6, 6)"
      ]
     },
     "execution_count": 159,
     "metadata": {},
     "output_type": "execute_result"
    }
   ],
   "source": [
    "d[\"d\"]"
   ]
  },
  {
   "cell_type": "code",
   "execution_count": 161,
   "id": "743a32c5-0908-480f-8007-89ab1a831fda",
   "metadata": {},
   "outputs": [
    {
     "name": "stdout",
     "output_type": "stream",
     "text": [
      "a fhgs\n",
      "b hdjss\n",
      "c [1, 2, 3, 3]\n",
      "d (3, 5, 6, 6)\n",
      "e pooja\n"
     ]
    }
   ],
   "source": [
    "for i in d:\n",
    "    print(i,d[i])"
   ]
  },
  {
   "cell_type": "code",
   "execution_count": 167,
   "id": "69860f88-dcf0-4509-b82c-5d5c6ec7f2fa",
   "metadata": {},
   "outputs": [
    {
     "name": "stdout",
     "output_type": "stream",
     "text": [
      "('a', 'fhgs')\n",
      "('b', 'hdjss')\n",
      "('c', [1, 2, 3, 3])\n",
      "('d', (3, 5, 6, 6))\n",
      "('e', 'pooja')\n"
     ]
    }
   ],
   "source": [
    "for i in d.items():\n",
    "    print(i)"
   ]
  },
  {
   "cell_type": "code",
   "execution_count": 175,
   "id": "491c65cf-d8f0-45da-a7b7-9d442bd5916e",
   "metadata": {},
   "outputs": [],
   "source": [
    "s= {3,546,56,5,7,57,563,55,5,7}"
   ]
  },
  {
   "cell_type": "code",
   "execution_count": 177,
   "id": "0e290df7-5078-4c74-837a-84044bc403cc",
   "metadata": {},
   "outputs": [
    {
     "data": {
      "text/plain": [
       "{3, 5, 7, 55, 56, 57, 546, 563}"
      ]
     },
     "execution_count": 177,
     "metadata": {},
     "output_type": "execute_result"
    }
   ],
   "source": [
    "s"
   ]
  },
  {
   "cell_type": "code",
   "execution_count": 179,
   "id": "b16031e8-2259-4ebd-82cf-fc9521031399",
   "metadata": {},
   "outputs": [
    {
     "name": "stdout",
     "output_type": "stream",
     "text": [
      "546\n",
      "3\n",
      "5\n",
      "7\n",
      "563\n",
      "55\n",
      "56\n",
      "57\n"
     ]
    }
   ],
   "source": [
    "for i in s:\n",
    "    print(i)"
   ]
  },
  {
   "cell_type": "code",
   "execution_count": 186,
   "id": "dd8336a3-2e71-4da8-aae6-a2f8f1b2c1f2",
   "metadata": {},
   "outputs": [
    {
     "data": {
      "text/plain": [
       "26"
      ]
     },
     "execution_count": 186,
     "metadata": {},
     "output_type": "execute_result"
    }
   ],
   "source": [
    "s = \"this is basic python class\"\n",
    "len(s)\n"
   ]
  },
  {
   "cell_type": "code",
   "execution_count": 198,
   "id": "eeb633c8-eb03-43d4-8e6d-86897b56546e",
   "metadata": {},
   "outputs": [
    {
     "name": "stdout",
     "output_type": "stream",
     "text": [
      "26\n"
     ]
    }
   ],
   "source": [
    "count = 0\n",
    "for i in s :\n",
    "    count = count +1 \n",
    "    # or count+=1\n",
    "print(count)\n",
    "    "
   ]
  },
  {
   "cell_type": "code",
   "execution_count": 202,
   "id": "9b87f8b0-3164-4936-bbb1-0815d82153aa",
   "metadata": {},
   "outputs": [
    {
     "data": {
      "text/plain": [
       "'ssalc nohtyp cisab si siht'"
      ]
     },
     "execution_count": 202,
     "metadata": {},
     "output_type": "execute_result"
    }
   ],
   "source": [
    "s[::-1]"
   ]
  },
  {
   "cell_type": "code",
   "execution_count": 335,
   "id": "b70b4af6-ce39-463b-b5e3-b143c6d375e4",
   "metadata": {},
   "outputs": [
    {
     "data": {
      "text/plain": [
       "'malayalam'"
      ]
     },
     "execution_count": 335,
     "metadata": {},
     "output_type": "execute_result"
    }
   ],
   "source": [
    "s\n"
   ]
  },
  {
   "cell_type": "code",
   "execution_count": 337,
   "id": "814b424e-ea8a-47ab-9eac-8c7b16eeddd1",
   "metadata": {},
   "outputs": [
    {
     "name": "stdout",
     "output_type": "stream",
     "text": [
      "s\n",
      "s\n",
      "a\n",
      "l\n",
      "c\n",
      " \n",
      "n\n",
      "o\n",
      "h\n",
      "t\n",
      "y\n",
      "p\n",
      " \n",
      "c\n",
      "i\n",
      "s\n",
      "a\n",
      "b\n",
      " \n",
      "s\n",
      "i\n",
      " \n",
      "s\n",
      "i\n",
      "h\n",
      "t\n"
     ]
    }
   ],
   "source": [
    "s = \"this is basic python class\"\n",
    "for i in range(len(s)-1,-1,-1):\n",
    "    print(s[i])"
   ]
  },
  {
   "cell_type": "code",
   "execution_count": 218,
   "id": "fa4a1856-fa49-4a98-b730-8c5362f233f8",
   "metadata": {},
   "outputs": [
    {
     "data": {
      "text/plain": [
       "'this is basic python class'"
      ]
     },
     "execution_count": 218,
     "metadata": {},
     "output_type": "execute_result"
    }
   ],
   "source": [
    "s\n"
   ]
  },
  {
   "cell_type": "code",
   "execution_count": 220,
   "id": "69c7b2a9-4cee-473b-9fa0-dbd1268c0f99",
   "metadata": {},
   "outputs": [
    {
     "name": "stdout",
     "output_type": "stream",
     "text": [
      "s s a l c   n o h t y p   c i s a b   s i   s i h t "
     ]
    }
   ],
   "source": [
    "i =len(s)-1\n",
    "while(i>=0):\n",
    "    print(s[i],end=\" \")\n",
    "    i=i-1"
   ]
  },
  {
   "cell_type": "code",
   "execution_count": 222,
   "id": "d946ce1e-e600-4643-bdeb-1a76d0ece66a",
   "metadata": {},
   "outputs": [],
   "source": [
    "s= \"ineuron\"\n",
    "v =\"AaEeIiOoUu\"\n"
   ]
  },
  {
   "cell_type": "code",
   "execution_count": 238,
   "id": "d0412bc2-a013-483a-a3a3-b012e4895a6f",
   "metadata": {},
   "outputs": [
    {
     "name": "stdout",
     "output_type": "stream",
     "text": [
      "vowel i\n",
      "not vowel n\n",
      "vowel e\n",
      "vowel u\n",
      "not vowel r\n",
      "vowel o\n",
      "not vowel n\n"
     ]
    }
   ],
   "source": [
    "for i in s :\n",
    "    if i in v:\n",
    "        print(\"vowel\", i)\n",
    "    else:\n",
    "        print(\"not vowel\", i)"
   ]
  },
  {
   "cell_type": "code",
   "execution_count": 250,
   "id": "2841e379-c41d-4881-8d4c-28ef817294bc",
   "metadata": {},
   "outputs": [
    {
     "data": {
      "text/plain": [
       "True"
      ]
     },
     "execution_count": 250,
     "metadata": {},
     "output_type": "execute_result"
    }
   ],
   "source": [
    "\"s\" in \"sudh\""
   ]
  },
  {
   "cell_type": "code",
   "execution_count": 248,
   "id": "21dcf202-2ba6-4704-bf63-f140a82da546",
   "metadata": {},
   "outputs": [
    {
     "data": {
      "text/plain": [
       "'ineuron'"
      ]
     },
     "execution_count": 248,
     "metadata": {},
     "output_type": "execute_result"
    }
   ],
   "source": [
    "s\n"
   ]
  },
  {
   "cell_type": "code",
   "execution_count": 252,
   "id": "92b1f903-d0ee-4284-b9dc-c79056931edb",
   "metadata": {},
   "outputs": [
    {
     "data": {
      "text/plain": [
       "'eye'"
      ]
     },
     "execution_count": 252,
     "metadata": {},
     "output_type": "execute_result"
    }
   ],
   "source": [
    "\"tnent\"\n",
    "\"malayalam\"\n",
    "\"eye\"\n"
   ]
  },
  {
   "cell_type": "code",
   "execution_count": 261,
   "id": "647871e0-31c3-43b2-8e3f-357a1c7f135a",
   "metadata": {},
   "outputs": [
    {
     "name": "stdin",
     "output_type": "stream",
     "text": [
      " malayalam\n"
     ]
    },
    {
     "name": "stdout",
     "output_type": "stream",
     "text": [
      "pallindrome malayalam\n"
     ]
    }
   ],
   "source": [
    "s = input()\n",
    "v =s[::-1]\n",
    "if s == v:\n",
    "    print(\"pallindrome\", s)\n",
    "else :\n",
    "    print(\"Not a palliendrome\", s)"
   ]
  },
  {
   "cell_type": "code",
   "execution_count": 367,
   "id": "5a2a812a-adf7-483f-b2a4-55aa1ecf48bf",
   "metadata": {},
   "outputs": [
    {
     "name": "stdin",
     "output_type": "stream",
     "text": [
      " pooja\n"
     ]
    },
    {
     "name": "stdout",
     "output_type": "stream",
     "text": [
      "Not Pallindrom :  pooja\n"
     ]
    }
   ],
   "source": [
    "w=input() #pop\n",
    "for i in range(len(w)): #[words =3 so the index will be[ 0,1,2]\n",
    "    if w[i] != w[(len(w)-i-1)]:#w[i]=w[0,1,2] != w[3-i(0,1,2)-1]\n",
    "        print(\"Not Pallindrom : \", w)\n",
    "        break\n",
    "else:\n",
    "    print(\"pallindrom: \", w)"
   ]
  },
  {
   "cell_type": "code",
   "execution_count": 377,
   "id": "c90c6851-172c-426a-921f-e89be7767ff1",
   "metadata": {},
   "outputs": [
    {
     "name": "stdin",
     "output_type": "stream",
     "text": [
      " pook\n"
     ]
    },
    {
     "name": "stdout",
     "output_type": "stream",
     "text": [
      "not a pallindrom\n"
     ]
    }
   ],
   "source": [
    "s = input()\n",
    "f =\"\"\n",
    "i =len(s)-1\n",
    "\n",
    "while(i>=0):\n",
    "    f=f+s[i]\n",
    "    i=i-1\n",
    "if s==f :\n",
    "    print(\"pallindrom\")\n",
    "else:\n",
    "    print(\"not a pallindrom\")"
   ]
  },
  {
   "cell_type": "code",
   "execution_count": 401,
   "id": "b8d000f6-6c8d-4376-a8f5-5a4dfab10d93",
   "metadata": {},
   "outputs": [
    {
     "name": "stdin",
     "output_type": "stream",
     "text": [
      " pop\n"
     ]
    },
    {
     "name": "stdout",
     "output_type": "stream",
     "text": [
      "pallindrom\n"
     ]
    }
   ],
   "source": [
    "s=input()\n",
    "l=len(s)\n",
    "k=0\n",
    "for i in range(l):\n",
    "    if s[i]==s[l-i-1]:\n",
    "        continue\n",
    "    else:\n",
    "        print(\"not pallindrom\")\n",
    "        k=1\n",
    "        break\n",
    "if k==0:\n",
    "    print(\"pallindrom\")\n",
    "    \n",
    "        "
   ]
  },
  {
   "cell_type": "code",
   "execution_count": 403,
   "id": "a0b0f4ba-770e-40fe-b7b8-4c40fa15d424",
   "metadata": {},
   "outputs": [],
   "source": [
    "d= {\"india\": \"IN\", \n",
    "   \"canada\" : \"CA\",\n",
    "   \"china\": \"CH\",\n",
    "   \"united state\" : \"US\"\n",
    "   }"
   ]
  },
  {
   "cell_type": "code",
   "execution_count": 405,
   "id": "140b76d5-3c6f-452e-857a-5935dca55395",
   "metadata": {},
   "outputs": [
    {
     "data": {
      "text/plain": [
       "True"
      ]
     },
     "execution_count": 405,
     "metadata": {},
     "output_type": "execute_result"
    }
   ],
   "source": [
    "\"india\" in d"
   ]
  },
  {
   "cell_type": "code",
   "execution_count": 419,
   "id": "d246d0b0-2a99-4d07-804a-c886794141b1",
   "metadata": {},
   "outputs": [
    {
     "data": {
      "text/plain": [
       "dict_items([('india', 'IN'), ('canada', 'CA'), ('china', 'CH'), ('united state', 'US')])"
      ]
     },
     "execution_count": 419,
     "metadata": {},
     "output_type": "execute_result"
    }
   ],
   "source": [
    "d.items()\n"
   ]
  },
  {
   "cell_type": "code",
   "execution_count": 425,
   "id": "1b3ff8b8-722f-4dc1-96f7-47b42f841fd3",
   "metadata": {},
   "outputs": [
    {
     "data": {
      "text/plain": [
       "dict_values(['IN', 'CA', 'CH', 'US'])"
      ]
     },
     "execution_count": 425,
     "metadata": {},
     "output_type": "execute_result"
    }
   ],
   "source": [
    "d.values()"
   ]
  },
  {
   "cell_type": "code",
   "execution_count": 455,
   "id": "8f77d9e4-1e26-488f-9057-09239869811e",
   "metadata": {},
   "outputs": [],
   "source": [
    "k=d.keys()\n"
   ]
  },
  {
   "cell_type": "code",
   "execution_count": 498,
   "id": "c34ad769-0f3e-46d0-970c-4f1373acaf91",
   "metadata": {},
   "outputs": [
    {
     "name": "stdout",
     "output_type": "stream",
     "text": [
      "['canada', 'united state']\n",
      "['india', 'china']\n"
     ]
    }
   ],
   "source": [
    "l_greater =[]\n",
    "l_smaller =[]\n",
    "for i in d:\n",
    "    if len(i)<=5:\n",
    "        l_smaller.append(i)\n",
    "    else:\n",
    "        l_greater.append(i)\n",
    "print(l_greater) \n",
    "\n",
    "print(l_smaller)"
   ]
  },
  {
   "cell_type": "code",
   "execution_count": 522,
   "id": "aec6d1fb-f9ce-4ea1-8ea3-e01a92118383",
   "metadata": {},
   "outputs": [],
   "source": [
    "d ={\"ineuron\":\n",
    "                {\"a\":14,\n",
    "                 \"b\":10,\n",
    "                 \"c\":4\n",
    "                },\n",
    "      'course': \n",
    "                {\n",
    "                 'd':45,\n",
    "                 \"e\":34,\n",
    "                 'f': 1\n",
    "                 }\n",
    "     }"
   ]
  },
  {
   "cell_type": "code",
   "execution_count": 540,
   "id": "20658c3c-d61a-496f-b46a-015bae353040",
   "metadata": {},
   "outputs": [
    {
     "name": "stdout",
     "output_type": "stream",
     "text": [
      "14\n",
      "45\n"
     ]
    }
   ],
   "source": [
    "a=[]\n",
    "for i in d.values():\n",
    "    for j in i.values():\n",
    "        a.append(j)\n",
    "        print(max(a))\n",
    "        break\n",
    "    \n"
   ]
  },
  {
   "cell_type": "code",
   "execution_count": 544,
   "id": "6f2aa4f5-4089-44d0-b895-0b021a173ca5",
   "metadata": {},
   "outputs": [
    {
     "name": "stdout",
     "output_type": "stream",
     "text": [
      "14\n",
      "45\n"
     ]
    }
   ],
   "source": [
    "for i in d.values():\n",
    "    print(max(i.values()))"
   ]
  },
  {
   "cell_type": "code",
   "execution_count": 552,
   "id": "b86daace-a107-4d75-98c4-20a58253d375",
   "metadata": {},
   "outputs": [
    {
     "name": "stdout",
     "output_type": "stream",
     "text": [
      "ineuron\n",
      "14\n",
      "course\n",
      "45\n"
     ]
    }
   ],
   "source": [
    "for i in d.keys():\n",
    "    print(i)\n",
    "    print(max(d[i].values()))"
   ]
  },
  {
   "cell_type": "code",
   "execution_count": 562,
   "id": "487438c3-d653-4f8c-bb3f-1ef7ae1f79ab",
   "metadata": {},
   "outputs": [],
   "source": [
    "d1={\"ineuron\":{\"a\":14,\"b\":10,\"c\":4},\"course\":{\"d\":45,\"e\":34,\"f\":1},\"g\":34,\"h\":[45,6,7,8,9,3], 'i':(45,34,2), 'k': \"sudh\"}"
   ]
  },
  {
   "cell_type": "code",
   "execution_count": 564,
   "id": "48df1572-a7a2-4031-8597-bbc6ec14ae86",
   "metadata": {},
   "outputs": [
    {
     "data": {
      "text/plain": [
       "{'ineuron': {'a': 14, 'b': 10, 'c': 4},\n",
       " 'course': {'d': 45, 'e': 34, 'f': 1},\n",
       " 'g': 34,\n",
       " 'h': [45, 6, 7, 8, 9, 3],\n",
       " 'i': (45, 34, 2),\n",
       " 'k': 'sudh'}"
      ]
     },
     "execution_count": 564,
     "metadata": {},
     "output_type": "execute_result"
    }
   ],
   "source": [
    "d1\n"
   ]
  },
  {
   "cell_type": "code",
   "execution_count": 688,
   "id": "93983d19-e6ca-416d-b54f-9e511e948a89",
   "metadata": {},
   "outputs": [
    {
     "name": "stdout",
     "output_type": "stream",
     "text": [
      "45\n"
     ]
    }
   ],
   "source": [
    "m = []\n",
    "for i in d1.values():\n",
    "    if type(i) == dict:\n",
    "        m.append(max(i.values()))\n",
    "    elif type(i) == list:\n",
    "        m.append(max(i))\n",
    "    elif type(i) == tuple:\n",
    "        m.append(max(i))\n",
    "    elif type(i) == str:\n",
    "        pass\n",
    "    else:\n",
    "        m.append(i)\n",
    "    \n",
    "print(max(m))\n",
    "        \n",
    "    \n",
    "    \n",
    "    \n",
    "    \n",
    "\n",
    "\n",
    "   "
   ]
  },
  {
   "cell_type": "code",
   "execution_count": null,
   "id": "d117eeba-c308-47cf-8261-37f305d5304c",
   "metadata": {},
   "outputs": [],
   "source": [
    "#iterable : extract data one by one individual index(character)\n",
    "#str is by default iterable object \n",
    "#iter function : to convert iterable into iterator \n",
    "#list is by default iterable , convert into iterator by iter function\n",
    "#int is not iterable, cannot convert into iterator\n",
    "#next function : able to extract data one by one"
   ]
  },
  {
   "cell_type": "code",
   "execution_count": 20,
   "id": "92dab856-ecce-4061-99e7-be0c15e33898",
   "metadata": {},
   "outputs": [],
   "source": [
    "l = [1,2,3,4,5]\n"
   ]
  },
  {
   "cell_type": "raw",
   "id": "b14cd5a7-3f44-4e25-a601-2f4305a71f4a",
   "metadata": {},
   "source": [
    "l=iter(l)"
   ]
  },
  {
   "cell_type": "code",
   "execution_count": 24,
   "id": "d459a054-bec5-4b27-8e80-b201fcaa2328",
   "metadata": {},
   "outputs": [
    {
     "data": {
      "text/plain": [
       "1"
      ]
     },
     "execution_count": 24,
     "metadata": {},
     "output_type": "execute_result"
    }
   ],
   "source": [
    "next(l)\n"
   ]
  },
  {
   "cell_type": "code",
   "execution_count": 26,
   "id": "48fb2d86-31df-4f66-9aa4-e9259d1714b0",
   "metadata": {},
   "outputs": [
    {
     "data": {
      "text/plain": [
       "2"
      ]
     },
     "execution_count": 26,
     "metadata": {},
     "output_type": "execute_result"
    }
   ],
   "source": [
    "next(l)"
   ]
  },
  {
   "cell_type": "code",
   "execution_count": 28,
   "id": "83f784d9-a18e-4751-bf70-1f3530afaec6",
   "metadata": {},
   "outputs": [
    {
     "data": {
      "text/plain": [
       "3"
      ]
     },
     "execution_count": 28,
     "metadata": {},
     "output_type": "execute_result"
    }
   ],
   "source": [
    "next(l)"
   ]
  },
  {
   "cell_type": "code",
   "execution_count": 30,
   "id": "8128147b-926e-46be-8786-fa75b7cea51a",
   "metadata": {},
   "outputs": [
    {
     "data": {
      "text/plain": [
       "4"
      ]
     },
     "execution_count": 30,
     "metadata": {},
     "output_type": "execute_result"
    }
   ],
   "source": [
    "next(l)"
   ]
  },
  {
   "cell_type": "code",
   "execution_count": 32,
   "id": "fd7d7e32-5efb-49e5-ac02-2ed17f83311b",
   "metadata": {},
   "outputs": [
    {
     "data": {
      "text/plain": [
       "5"
      ]
     },
     "execution_count": 32,
     "metadata": {},
     "output_type": "execute_result"
    }
   ],
   "source": [
    "next(l)"
   ]
  },
  {
   "cell_type": "code",
   "execution_count": 54,
   "id": "2aa9175f-9dc8-4016-8816-5ff4383264d0",
   "metadata": {},
   "outputs": [],
   "source": [
    "a = 56"
   ]
  },
  {
   "cell_type": "code",
   "execution_count": 59,
   "id": "5a9b3594-e275-4b03-ac91-fbeffba48488",
   "metadata": {},
   "outputs": [],
   "source": [
    "t= (5,6,7,8,8)"
   ]
  },
  {
   "cell_type": "code",
   "execution_count": 65,
   "id": "e6357c1f-662e-4e70-bfc6-f1d073d16fab",
   "metadata": {},
   "outputs": [],
   "source": [
    "t=iter(t)"
   ]
  },
  {
   "cell_type": "code",
   "execution_count": 67,
   "id": "57b256b0-2bda-4549-b5f9-9e2539f76195",
   "metadata": {},
   "outputs": [
    {
     "data": {
      "text/plain": [
       "5"
      ]
     },
     "execution_count": 67,
     "metadata": {},
     "output_type": "execute_result"
    }
   ],
   "source": [
    "next(t)"
   ]
  },
  {
   "cell_type": "code",
   "execution_count": 75,
   "id": "0b972060-325f-4bdb-898e-153406dd53f7",
   "metadata": {},
   "outputs": [],
   "source": [
    "r =range(6)"
   ]
  },
  {
   "cell_type": "code",
   "execution_count": 79,
   "id": "2faacac7-7ea2-4a09-a444-330f4bfd9998",
   "metadata": {},
   "outputs": [],
   "source": [
    "r =iter(r)"
   ]
  },
  {
   "cell_type": "code",
   "execution_count": 87,
   "id": "a9455821-b8b6-4077-b5eb-22ca1f29ae9f",
   "metadata": {},
   "outputs": [
    {
     "data": {
      "text/plain": [
       "3"
      ]
     },
     "execution_count": 87,
     "metadata": {},
     "output_type": "execute_result"
    }
   ],
   "source": [
    "next(r)"
   ]
  },
  {
   "cell_type": "code",
   "execution_count": 89,
   "id": "21ff85f4-a1aa-4fc1-8568-41fbd04fbe59",
   "metadata": {},
   "outputs": [],
   "source": [
    "#generator : object that allows you to hold info  and certain logic about previous dataset and help you to extract next data set with previous memory\n",
    "#"
   ]
  },
  {
   "cell_type": "code",
   "execution_count": 91,
   "id": "c975edd0-2726-4a27-adb9-01934d9e9852",
   "metadata": {},
   "outputs": [
    {
     "data": {
      "text/plain": [
       "range(0, 45)"
      ]
     },
     "execution_count": 91,
     "metadata": {},
     "output_type": "execute_result"
    }
   ],
   "source": [
    "range(45) # generating dataset (0 to 44) with certain logic and info "
   ]
  },
  {
   "cell_type": "code",
   "execution_count": 95,
   "id": "f4d56826-dd68-4393-b75c-ce7e48b54e92",
   "metadata": {},
   "outputs": [
    {
     "data": {
      "text/plain": [
       "[0, 3, 6, 9, 12, 15, 18, 21, 24, 27, 30, 33, 36, 39, 42]"
      ]
     },
     "execution_count": 95,
     "metadata": {},
     "output_type": "execute_result"
    }
   ],
   "source": [
    "list(range(0,45,3))"
   ]
  },
  {
   "cell_type": "code",
   "execution_count": 130,
   "id": "166d982e-4a09-460e-94b9-d37ad3960abb",
   "metadata": {},
   "outputs": [],
   "source": [
    "def gencube(n):\n",
    "    l = []\n",
    "    for i in range(n):\n",
    "        a= i**3\n",
    "        l.append(a)\n",
    "    return l"
   ]
  },
  {
   "cell_type": "code",
   "execution_count": 138,
   "id": "1c9186c9-9b2a-4414-8fd9-8b61a8f434fb",
   "metadata": {},
   "outputs": [
    {
     "data": {
      "text/plain": [
       "[0, 1, 8, 27, 64, 125]"
      ]
     },
     "execution_count": 138,
     "metadata": {},
     "output_type": "execute_result"
    }
   ],
   "source": [
    "gencube(6)"
   ]
  },
  {
   "cell_type": "code",
   "execution_count": null,
   "id": "dfa582eb-1672-4dd7-a6c2-44cfadc2b85c",
   "metadata": {},
   "outputs": [],
   "source": [
    "#yield function is used for range function : help you to data as an generator"
   ]
  },
  {
   "cell_type": "code",
   "execution_count": 160,
   "id": "9f4cc90c-392d-4ea6-a5fd-74a56706e587",
   "metadata": {},
   "outputs": [],
   "source": [
    "def gencube(n):     \n",
    "\n",
    "    for i in range(n):\n",
    "        yield i**3         #generator fuction"
   ]
  },
  {
   "cell_type": "code",
   "execution_count": 162,
   "id": "6cd5047e-c4a2-4153-9396-f0fcf32de477",
   "metadata": {},
   "outputs": [
    {
     "data": {
      "text/plain": [
       "<generator object gencube at 0x000002C640B1F920>"
      ]
     },
     "execution_count": 162,
     "metadata": {},
     "output_type": "execute_result"
    }
   ],
   "source": [
    "gencube(10)"
   ]
  },
  {
   "cell_type": "code",
   "execution_count": 168,
   "id": "abe84de8-ec6d-413a-8373-477f3e6c93db",
   "metadata": {},
   "outputs": [
    {
     "name": "stdout",
     "output_type": "stream",
     "text": [
      "0\n",
      "1\n",
      "8\n",
      "27\n",
      "64\n",
      "125\n",
      "216\n",
      "343\n",
      "512\n"
     ]
    }
   ],
   "source": [
    "for i in gencube(9):\n",
    "    print(i)"
   ]
  },
  {
   "cell_type": "code",
   "execution_count": 172,
   "id": "ec7dedfc-6b2f-428f-9985-ec4dc084c1aa",
   "metadata": {},
   "outputs": [],
   "source": [
    "#fibonacci sequences : next no. is a submission of previous two no."
   ]
  },
  {
   "cell_type": "code",
   "execution_count": 194,
   "id": "a0850213-c4de-4213-9a8d-0d0387a0af8a",
   "metadata": {},
   "outputs": [
    {
     "name": "stdout",
     "output_type": "stream",
     "text": [
      "(0, 1)\n",
      "(1, 1)\n",
      "(2, 2)\n",
      "(3, 3)\n",
      "(4, 5)\n",
      "(5, 8)\n",
      "(6, 13)\n",
      "(7, 21)\n",
      "(8, 34)\n",
      "(9, 55)\n"
     ]
    }
   ],
   "source": [
    "def fib(n):\n",
    "    a = 1\n",
    "    b = 1\n",
    "    for i in range(n):\n",
    "        yield i, a\n",
    "        a,b= b, a+b\n",
    "for i in fib(10):\n",
    "    print(i)"
   ]
  },
  {
   "cell_type": "code",
   "execution_count": 245,
   "id": "382ffdac-7a72-463c-82c4-0d8db9d48ed2",
   "metadata": {},
   "outputs": [],
   "source": [
    "def fib1(n):      #without yield function used append function\n",
    "    a=1\n",
    "    b=1\n",
    "    f = []\n",
    "    for i in range(n):\n",
    "        f.append(a)\n",
    "        a,b = b, a+b\n",
    "    return f \n"
   ]
  },
  {
   "cell_type": "code",
   "execution_count": 247,
   "id": "48582e7c-c1fb-434d-89fe-8f1597089c6d",
   "metadata": {},
   "outputs": [
    {
     "data": {
      "text/plain": [
       "[1, 1, 2, 3, 5, 8, 13, 21, 34, 55]"
      ]
     },
     "execution_count": 247,
     "metadata": {},
     "output_type": "execute_result"
    }
   ],
   "source": [
    "fib1(10)"
   ]
  },
  {
   "cell_type": "code",
   "execution_count": 270,
   "id": "527eed09-04f6-458b-a96a-f3addc21e30a",
   "metadata": {},
   "outputs": [],
   "source": [
    "#file system        #write,read,open ,close\n",
    "f = open(\"test1.txt\", \"w\") "
   ]
  },
  {
   "cell_type": "code",
   "execution_count": 272,
   "id": "eb340f5b-82ef-4b7f-bffb-de3ab3d693ea",
   "metadata": {},
   "outputs": [
    {
     "data": {
      "text/plain": [
       "'D:\\\\Pooja\\\\Jupyter_Pooja\\\\pooja_jupyter'"
      ]
     },
     "execution_count": 272,
     "metadata": {},
     "output_type": "execute_result"
    }
   ],
   "source": [
    "pwd"
   ]
  },
  {
   "cell_type": "code",
   "execution_count": 274,
   "id": "f7bc0d81-9b4c-4753-befb-dcfcb848f45d",
   "metadata": {},
   "outputs": [
    {
     "name": "stdout",
     "output_type": "stream",
     "text": [
      " Volume in drive D is Data\n",
      " Volume Serial Number is 8AA4-C26A\n",
      "\n",
      " Directory of D:\\Pooja\\Jupyter_Pooja\\pooja_jupyter\n",
      "\n",
      "02-11-2024  13:56    <DIR>          .\n",
      "26-10-2024  15:31    <DIR>          ..\n",
      "28-10-2024  16:04    <DIR>          .ipynb_checkpoints\n",
      "02-11-2024  13:56            77,898 ineuron.ipynb\n",
      "02-11-2024  13:56                 0 test1.txt\n",
      "               2 File(s)         77,898 bytes\n",
      "               3 Dir(s)  250,496,557,056 bytes free\n"
     ]
    }
   ],
   "source": [
    "ls"
   ]
  },
  {
   "cell_type": "code",
   "execution_count": 268,
   "id": "ae00f275-6be5-4dc5-9427-c48a40e41f62",
   "metadata": {},
   "outputs": [
    {
     "name": "stdout",
     "output_type": "stream",
     "text": [
      " Volume in drive D is Data\n",
      " Volume Serial Number is 8AA4-C26A\n",
      "\n",
      " Directory of D:\\Pooja\\Jupyter_Pooja\\pooja_jupyter\n",
      "\n",
      "02-11-2024  13:54    <DIR>          .\n",
      "26-10-2024  15:31    <DIR>          ..\n",
      "28-10-2024  16:04    <DIR>          .ipynb_checkpoints\n",
      "02-11-2024  13:54            77,113 ineuron.ipynb\n",
      "               1 File(s)         77,113 bytes\n",
      "               3 Dir(s)  250,496,561,152 bytes free\n"
     ]
    }
   ],
   "source": [
    "%ls"
   ]
  },
  {
   "cell_type": "code",
   "execution_count": 276,
   "id": "1174e83f-c33c-4cd0-895b-776e5fe0f69e",
   "metadata": {},
   "outputs": [],
   "source": [
    "f = open('test1.txt', \"w\")"
   ]
  },
  {
   "cell_type": "code",
   "execution_count": 278,
   "id": "cbbd167b-d682-46f5-a2e2-b067d3cbd44f",
   "metadata": {},
   "outputs": [
    {
     "data": {
      "text/plain": [
       "60"
      ]
     },
     "execution_count": 278,
     "metadata": {},
     "output_type": "execute_result"
    }
   ],
   "source": [
    "f.write (\"this is my first file operation to something in my test2.txt\")"
   ]
  },
  {
   "cell_type": "code",
   "execution_count": 286,
   "id": "01c71f3e-c6be-48d2-b82a-c047f826a4e5",
   "metadata": {},
   "outputs": [],
   "source": [
    "f.close()"
   ]
  },
  {
   "cell_type": "code",
   "execution_count": 288,
   "id": "2af28469-53ca-45da-9454-94103b7c9443",
   "metadata": {},
   "outputs": [
    {
     "name": "stdout",
     "output_type": "stream",
     "text": [
      "Writing test2.txt\n"
     ]
    }
   ],
   "source": [
    "%%writefile test2.txt\n",
    "this is a data i would like to store"
   ]
  },
  {
   "cell_type": "code",
   "execution_count": 290,
   "id": "36eff132-8b23-4121-a9d8-97752cd2968c",
   "metadata": {},
   "outputs": [
    {
     "name": "stdout",
     "output_type": "stream",
     "text": [
      " Volume in drive D is Data\n",
      " Volume Serial Number is 8AA4-C26A\n",
      "\n",
      " Directory of D:\\Pooja\\Jupyter_Pooja\\pooja_jupyter\n",
      "\n",
      "02-11-2024  14:06    <DIR>          .\n",
      "26-10-2024  15:31    <DIR>          ..\n",
      "28-10-2024  16:04    <DIR>          .ipynb_checkpoints\n",
      "02-11-2024  14:06            79,959 ineuron.ipynb\n",
      "02-11-2024  14:01                60 test1.txt\n",
      "02-11-2024  14:06                38 test2.txt\n",
      "               3 File(s)         80,057 bytes\n",
      "               3 Dir(s)  250,496,557,056 bytes free\n"
     ]
    }
   ],
   "source": [
    "%ls"
   ]
  },
  {
   "cell_type": "code",
   "execution_count": 298,
   "id": "84be3767-b990-4e05-988c-066607de895a",
   "metadata": {},
   "outputs": [],
   "source": [
    "f = open('test1.txt') #bydefault read mode"
   ]
  },
  {
   "cell_type": "code",
   "execution_count": 300,
   "id": "3102d74d-ca3d-4292-a9e9-466c57575356",
   "metadata": {},
   "outputs": [
    {
     "data": {
      "text/plain": [
       "'this is my first file operation to something in my test2.txt'"
      ]
     },
     "execution_count": 300,
     "metadata": {},
     "output_type": "execute_result"
    }
   ],
   "source": [
    "f.read()"
   ]
  },
  {
   "cell_type": "code",
   "execution_count": 306,
   "id": "275d0a55-4c55-4cd1-b6b1-8342c3971460",
   "metadata": {},
   "outputs": [
    {
     "ename": "TypeError",
     "evalue": "TextIOWrapper.write() takes exactly one argument (0 given)",
     "output_type": "error",
     "traceback": [
      "\u001b[1;31m---------------------------------------------------------------------------\u001b[0m",
      "\u001b[1;31mTypeError\u001b[0m                                 Traceback (most recent call last)",
      "Cell \u001b[1;32mIn[306], line 1\u001b[0m\n\u001b[1;32m----> 1\u001b[0m f\u001b[38;5;241m.\u001b[39mwrite()\n",
      "\u001b[1;31mTypeError\u001b[0m: TextIOWrapper.write() takes exactly one argument (0 given)"
     ]
    }
   ],
   "source": [
    "f.write()"
   ]
  },
  {
   "cell_type": "code",
   "execution_count": 308,
   "id": "61064237-f2da-40b1-850b-62254e39377b",
   "metadata": {},
   "outputs": [
    {
     "data": {
      "text/plain": [
       "''"
      ]
     },
     "execution_count": 308,
     "metadata": {},
     "output_type": "execute_result"
    }
   ],
   "source": [
    "f.read()"
   ]
  },
  {
   "cell_type": "code",
   "execution_count": 320,
   "id": "c9308efd-0c08-40f4-acd8-79f0437f17f2",
   "metadata": {},
   "outputs": [
    {
     "data": {
      "text/plain": [
       "0"
      ]
     },
     "execution_count": 320,
     "metadata": {},
     "output_type": "execute_result"
    }
   ],
   "source": [
    "f.seek(0)"
   ]
  },
  {
   "cell_type": "code",
   "execution_count": 376,
   "id": "8d31549e-f5f9-4d70-8519-39fc8c2e6155",
   "metadata": {},
   "outputs": [
    {
     "data": {
      "text/plain": [
       "''"
      ]
     },
     "execution_count": 376,
     "metadata": {},
     "output_type": "execute_result"
    }
   ],
   "source": [
    "f.read()"
   ]
  },
  {
   "cell_type": "code",
   "execution_count": 404,
   "id": "0167ce34-3445-4674-bb6d-b92e92a18e23",
   "metadata": {},
   "outputs": [
    {
     "name": "stdout",
     "output_type": "stream",
     "text": [
      "Overwriting test1.txt\n"
     ]
    }
   ],
   "source": [
    "%%writefile test1.txt\n",
    "this is my first file operation to something in my test1.txt. my name is pooja pandey , i want to transition my profile into data analyst from a medical background, The Celebration\n",
    "\n",
    "O kite,\n",
    "\n",
    "It is the celebration of aiming for the skies,\n",
    "\n",
    "It is my flight to the sun.\n",
    "\n",
    "\n",
    "O kite,\n",
    "\n",
    "It's my glory in this life and beyond\n",
    "\n",
    "I hold my own strings...\n",
    "\n",
    "With my footprints on ground\n",
    "\n",
    "And skies,\n",
    "\n",
    "I have the bird's eye view.\n",
    "\n",
    "\n",
    "My kite,\n",
    "\n",
    "It does not get entangled\n",
    "\n",
    "With a host of other kites...\n",
    "\n",
    "Nor does it get caught in boughs of trees.\n",
    "\n",
    " "
   ]
  },
  {
   "cell_type": "code",
   "execution_count": 406,
   "id": "5a79c80a-6625-4821-ad58-31ba36254104",
   "metadata": {},
   "outputs": [],
   "source": [
    "f =open('test1.txt')"
   ]
  },
  {
   "cell_type": "code",
   "execution_count": 408,
   "id": "f9704a6e-bc04-4bdd-b127-3d5e3a9c1547",
   "metadata": {},
   "outputs": [
    {
     "data": {
      "text/plain": [
       "\"this is my first file operation to something in my test1.txt. my name is pooja pandey , i want to transition my profile into data analyst from a medical background, The Celebration\\n\\nO kite,\\n\\nIt is the celebration of aiming for the skies,\\n\\nIt is my flight to the sun.\\n\\n\\nO kite,\\n\\nIt's my glory in this life and beyond\\n\\nI hold my own strings...\\n\\nWith my footprints on ground\\n\\nAnd skies,\\n\\nI have the bird's eye view.\\n\\n\\nMy kite,\\n\\nIt does not get entangled\\n\\nWith a host of other kites...\\n\\nNor does it get caught in boughs of trees.\\n\\n \\n\""
      ]
     },
     "execution_count": 408,
     "metadata": {},
     "output_type": "execute_result"
    }
   ],
   "source": [
    "f.read()"
   ]
  },
  {
   "cell_type": "code",
   "execution_count": 410,
   "id": "ed6df340-7ca8-4429-9bfd-d8a8d0e1950d",
   "metadata": {},
   "outputs": [
    {
     "data": {
      "text/plain": [
       "0"
      ]
     },
     "execution_count": 410,
     "metadata": {},
     "output_type": "execute_result"
    }
   ],
   "source": [
    "f.seek(0)"
   ]
  },
  {
   "cell_type": "code",
   "execution_count": 412,
   "id": "b923606a-cf43-4ca5-9387-3bc467e44d43",
   "metadata": {},
   "outputs": [
    {
     "data": {
      "text/plain": [
       "\"this is my first file operation to something in my test1.txt. my name is pooja pandey , i want to transition my profile into data analyst from a medical background, The Celebration\\n\\nO kite,\\n\\nIt is the celebration of aiming for the skies,\\n\\nIt is my flight to the sun.\\n\\n\\nO kite,\\n\\nIt's my glory in this life and beyond\\n\\nI hold my own strings...\\n\\nWith my footprints on ground\\n\\nAnd skies,\\n\\nI have the bird's eye view.\\n\\n\\nMy kite,\\n\\nIt does not get entangled\\n\\nWith a host of other kites...\\n\\nNor does it get caught in boughs of trees.\\n\\n \\n\""
      ]
     },
     "execution_count": 412,
     "metadata": {},
     "output_type": "execute_result"
    }
   ],
   "source": [
    "f.read()"
   ]
  },
  {
   "cell_type": "code",
   "execution_count": 414,
   "id": "570649c5-a3b1-46b7-b1d8-325553687414",
   "metadata": {},
   "outputs": [
    {
     "data": {
      "text/plain": [
       "560"
      ]
     },
     "execution_count": 414,
     "metadata": {},
     "output_type": "execute_result"
    }
   ],
   "source": [
    "f.tell()"
   ]
  },
  {
   "cell_type": "code",
   "execution_count": 416,
   "id": "28a09a09-77a3-4d5d-8d56-b01fa08320ad",
   "metadata": {},
   "outputs": [
    {
     "data": {
      "text/plain": [
       "5"
      ]
     },
     "execution_count": 416,
     "metadata": {},
     "output_type": "execute_result"
    }
   ],
   "source": [
    "f.seek(5)"
   ]
  },
  {
   "cell_type": "code",
   "execution_count": 418,
   "id": "9ad936ff-e2ca-455c-a7af-06c10db410b1",
   "metadata": {},
   "outputs": [
    {
     "data": {
      "text/plain": [
       "5"
      ]
     },
     "execution_count": 418,
     "metadata": {},
     "output_type": "execute_result"
    }
   ],
   "source": [
    "f.tell()"
   ]
  },
  {
   "cell_type": "code",
   "execution_count": 420,
   "id": "38bdd867-68ae-46dd-88ff-469d657fd560",
   "metadata": {},
   "outputs": [],
   "source": [
    "f= open(\"test1.txt\",\"r+\")"
   ]
  },
  {
   "cell_type": "code",
   "execution_count": 422,
   "id": "45295e72-abc8-4f91-af8b-0b9178b62a43",
   "metadata": {},
   "outputs": [
    {
     "data": {
      "text/plain": [
       "\"this is my first file operation to something in my test1.txt. my name is pooja pandey , i want to transition my profile into data analyst from a medical background, The Celebration\\n\\nO kite,\\n\\nIt is the celebration of aiming for the skies,\\n\\nIt is my flight to the sun.\\n\\n\\nO kite,\\n\\nIt's my glory in this life and beyond\\n\\nI hold my own strings...\\n\\nWith my footprints on ground\\n\\nAnd skies,\\n\\nI have the bird's eye view.\\n\\n\\nMy kite,\\n\\nIt does not get entangled\\n\\nWith a host of other kites...\\n\\nNor does it get caught in boughs of trees.\\n\\n \\n\""
      ]
     },
     "execution_count": 422,
     "metadata": {},
     "output_type": "execute_result"
    }
   ],
   "source": [
    "f.read()"
   ]
  },
  {
   "cell_type": "code",
   "execution_count": 442,
   "id": "07010452-12a8-48c3-8a4a-9eb177670598",
   "metadata": {},
   "outputs": [
    {
     "data": {
      "text/plain": [
       "0"
      ]
     },
     "execution_count": 442,
     "metadata": {},
     "output_type": "execute_result"
    }
   ],
   "source": [
    "f.seek(0)"
   ]
  },
  {
   "cell_type": "code",
   "execution_count": 444,
   "id": "de6a6e73-a401-4701-90cd-8069ce88aee4",
   "metadata": {},
   "outputs": [
    {
     "data": {
      "text/plain": [
       "'this is my first file operation to something in my test1.txt. my name is pooja pandey , i want to transition my profile into data analyst from a medical background, The Celebration\\n'"
      ]
     },
     "execution_count": 444,
     "metadata": {},
     "output_type": "execute_result"
    }
   ],
   "source": [
    "f.readline()"
   ]
  },
  {
   "cell_type": "code",
   "execution_count": 449,
   "id": "c5fa6580-786d-4b7a-b3ef-4f2aa8a57945",
   "metadata": {},
   "outputs": [
    {
     "data": {
      "text/plain": [
       "'\\n'"
      ]
     },
     "execution_count": 449,
     "metadata": {},
     "output_type": "execute_result"
    }
   ],
   "source": [
    "f.readline()\n"
   ]
  },
  {
   "cell_type": "code",
   "execution_count": 451,
   "id": "a9e7607b-bbb2-44ca-9c2e-18593804b0d1",
   "metadata": {},
   "outputs": [
    {
     "data": {
      "text/plain": [
       "'O kite,\\n'"
      ]
     },
     "execution_count": 451,
     "metadata": {},
     "output_type": "execute_result"
    }
   ],
   "source": [
    "f.readline()\n"
   ]
  },
  {
   "cell_type": "code",
   "execution_count": 453,
   "id": "746cc68e-8a04-41ca-8571-3b74f371cebf",
   "metadata": {},
   "outputs": [
    {
     "data": {
      "text/plain": [
       "'\\n'"
      ]
     },
     "execution_count": 453,
     "metadata": {},
     "output_type": "execute_result"
    }
   ],
   "source": [
    "f.readline()\n"
   ]
  },
  {
   "cell_type": "code",
   "execution_count": 455,
   "id": "b71bbab2-4099-4799-98b1-e8426f810824",
   "metadata": {},
   "outputs": [
    {
     "data": {
      "text/plain": [
       "'It is the celebration of aiming for the skies,\\n'"
      ]
     },
     "execution_count": 455,
     "metadata": {},
     "output_type": "execute_result"
    }
   ],
   "source": [
    "f.readline()\n",
    "\n"
   ]
  },
  {
   "cell_type": "code",
   "execution_count": 457,
   "id": "11e35024-0429-4e5e-aef7-800b3b9c432e",
   "metadata": {},
   "outputs": [
    {
     "data": {
      "text/plain": [
       "'\\n'"
      ]
     },
     "execution_count": 457,
     "metadata": {},
     "output_type": "execute_result"
    }
   ],
   "source": [
    "f.readline()\n"
   ]
  },
  {
   "cell_type": "code",
   "execution_count": 459,
   "id": "25f48874-0389-4151-8cf3-c4bac53c420a",
   "metadata": {},
   "outputs": [],
   "source": [
    "f.close()"
   ]
  },
  {
   "cell_type": "code",
   "execution_count": 463,
   "id": "8c436be8-44b0-43c0-afa7-38a67de4fe88",
   "metadata": {},
   "outputs": [
    {
     "name": "stdout",
     "output_type": "stream",
     "text": [
      "this is my first file operation to something in my test1.txt. my name is pooja pandey , i want to transition my profile into data analyst from a medical background, The Celebration\n",
      " \n",
      " O kite,\n",
      " \n",
      " It is the celebration of aiming for the skies,\n",
      " \n",
      " It is my flight to the sun.\n",
      " \n",
      " \n",
      " O kite,\n",
      " \n",
      " It's my glory in this life and beyond\n",
      " \n",
      " I hold my own strings...\n",
      " \n",
      " With my footprints on ground\n",
      " \n",
      " And skies,\n",
      " \n",
      " I have the bird's eye view.\n",
      " \n",
      " \n",
      " My kite,\n",
      " \n",
      " It does not get entangled\n",
      " \n",
      " With a host of other kites...\n",
      " \n",
      " Nor does it get caught in boughs of trees.\n",
      " \n",
      "  \n",
      " "
     ]
    }
   ],
   "source": [
    "f = open(\"test1.txt\",\"r+\")\n",
    "for line in f:\n",
    "    print(line, end = \" \")"
   ]
  },
  {
   "cell_type": "code",
   "execution_count": 465,
   "id": "3c6a15cb-161e-420c-8a49-ff17cb5115c9",
   "metadata": {},
   "outputs": [
    {
     "data": {
      "text/plain": [
       "31"
      ]
     },
     "execution_count": 465,
     "metadata": {},
     "output_type": "execute_result"
    }
   ],
   "source": [
    "f.write(\"nnvndsvnjndfhnfdnsdfdd  ksdbfhf\")"
   ]
  },
  {
   "cell_type": "code",
   "execution_count": 525,
   "id": "795a0668-e154-40f2-91d0-bea7c70a413e",
   "metadata": {},
   "outputs": [
    {
     "name": "stdout",
     "output_type": "stream",
     "text": [
      "this is my first file operation to something in my test1.txt. my name is pooja pandey , i want to transition my profile into data analyst from a medical background, The Celebration\n",
      " \n",
      " O kite,\n",
      " \n",
      " It is the celebration of aiming for the skies,\n",
      " \n",
      " It is my flight to the sun.\n",
      " \n",
      " \n",
      " O kite,\n",
      " \n",
      " It's my glory in this life and beyond\n",
      " \n",
      " I hold my own strings...\n",
      " \n",
      " With my footprints on ground\n",
      " \n",
      " And skies,\n",
      " \n",
      " I have the bird's eye view.\n",
      " \n",
      " \n",
      " My kite,\n",
      " \n",
      " It does not get entangled\n",
      " \n",
      " With a host of other kites...\n",
      " \n",
      " Nor does it get caught in boughs of trees.\n",
      " \n",
      "  \n",
      " nnvndsvnjndfhnfdnsdfdd  ksdbfhf "
     ]
    }
   ],
   "source": [
    "f = open(\"test1.txt\",\"r+\")\n",
    "for line in f:\n",
    "    print(line, end = \" \")"
   ]
  },
  {
   "cell_type": "code",
   "execution_count": 533,
   "id": "e6dda55b-631f-4a9b-84b5-07ad443e798a",
   "metadata": {},
   "outputs": [],
   "source": [
    "f =open(\"test1.txt\", \"r+\")\n"
   ]
  },
  {
   "cell_type": "code",
   "execution_count": 537,
   "id": "eecd39f0-d40f-46b7-b4dc-a2c0d43b797a",
   "metadata": {},
   "outputs": [
    {
     "data": {
      "text/plain": [
       "32"
      ]
     },
     "execution_count": 537,
     "metadata": {},
     "output_type": "execute_result"
    }
   ],
   "source": [
    "len(f.readlines())"
   ]
  },
  {
   "cell_type": "code",
   "execution_count": 543,
   "id": "b6469274-eb99-46c6-85ec-93d3f277ab50",
   "metadata": {},
   "outputs": [
    {
     "data": {
      "text/plain": [
       "['this is my first file operation to something in my test1.txt. my name is pooja pandey , i want to transition my profile into data analyst from a medical background, The Celebration\\n',\n",
       " '\\n',\n",
       " 'O kite,\\n',\n",
       " '\\n',\n",
       " 'It is the celebration of aiming for the skies,\\n',\n",
       " '\\n',\n",
       " 'It is my flight to the sun.\\n',\n",
       " '\\n',\n",
       " '\\n',\n",
       " 'O kite,\\n',\n",
       " '\\n',\n",
       " \"It's my glory in this life and beyond\\n\",\n",
       " '\\n',\n",
       " 'I hold my own strings...\\n',\n",
       " '\\n',\n",
       " 'With my footprints on ground\\n',\n",
       " '\\n',\n",
       " 'And skies,\\n',\n",
       " '\\n',\n",
       " \"I have the bird's eye view.\\n\",\n",
       " '\\n',\n",
       " '\\n',\n",
       " 'My kite,\\n',\n",
       " '\\n',\n",
       " 'It does not get entangled\\n',\n",
       " '\\n',\n",
       " 'With a host of other kites...\\n',\n",
       " '\\n',\n",
       " 'Nor does it get caught in boughs of trees.\\n',\n",
       " '\\n',\n",
       " ' \\n',\n",
       " 'nnvndsvnjndfhnfdnsdfdd  ksdbfhf']"
      ]
     },
     "execution_count": 543,
     "metadata": {},
     "output_type": "execute_result"
    }
   ],
   "source": [
    "f.readlines()"
   ]
  },
  {
   "cell_type": "code",
   "execution_count": 547,
   "id": "ad0e5c4d-eba5-44e8-850a-9712ba12cf87",
   "metadata": {},
   "outputs": [
    {
     "data": {
      "text/plain": [
       "0"
      ]
     },
     "execution_count": 547,
     "metadata": {},
     "output_type": "execute_result"
    }
   ],
   "source": [
    "f.seek(0)"
   ]
  },
  {
   "cell_type": "code",
   "execution_count": 549,
   "id": "6318baa9-e655-4145-adc7-96c867948c80",
   "metadata": {},
   "outputs": [],
   "source": [
    "l = f.readlines()"
   ]
  },
  {
   "cell_type": "code",
   "execution_count": 551,
   "id": "18b2012f-74ba-4e4d-8a82-e6ee88f826d7",
   "metadata": {},
   "outputs": [
    {
     "data": {
      "text/plain": [
       "['this is my first file operation to something in my test1.txt. my name is pooja pandey , i want to transition my profile into data analyst from a medical background, The Celebration\\n',\n",
       " '\\n',\n",
       " 'O kite,\\n',\n",
       " '\\n',\n",
       " 'It is the celebration of aiming for the skies,\\n',\n",
       " '\\n',\n",
       " 'It is my flight to the sun.\\n',\n",
       " '\\n',\n",
       " '\\n',\n",
       " 'O kite,\\n',\n",
       " '\\n',\n",
       " \"It's my glory in this life and beyond\\n\",\n",
       " '\\n',\n",
       " 'I hold my own strings...\\n',\n",
       " '\\n',\n",
       " 'With my footprints on ground\\n',\n",
       " '\\n',\n",
       " 'And skies,\\n',\n",
       " '\\n',\n",
       " \"I have the bird's eye view.\\n\",\n",
       " '\\n',\n",
       " '\\n',\n",
       " 'My kite,\\n',\n",
       " '\\n',\n",
       " 'It does not get entangled\\n',\n",
       " '\\n',\n",
       " 'With a host of other kites...\\n',\n",
       " '\\n',\n",
       " 'Nor does it get caught in boughs of trees.\\n',\n",
       " '\\n',\n",
       " ' \\n',\n",
       " 'nnvndsvnjndfhnfdnsdfdd  ksdbfhf']"
      ]
     },
     "execution_count": 551,
     "metadata": {},
     "output_type": "execute_result"
    }
   ],
   "source": [
    "l"
   ]
  },
  {
   "cell_type": "code",
   "execution_count": 575,
   "id": "cb302986-0644-468e-b5f4-65f6b8a80f9c",
   "metadata": {},
   "outputs": [
    {
     "data": {
      "text/plain": [
       "0"
      ]
     },
     "execution_count": 575,
     "metadata": {},
     "output_type": "execute_result"
    }
   ],
   "source": [
    "f.seek(0)\n"
   ]
  },
  {
   "cell_type": "code",
   "execution_count": 579,
   "id": "3f604801-d341-48da-b357-5ce4cb451418",
   "metadata": {},
   "outputs": [],
   "source": [
    "l1= []\n",
    "for i in l[0].split():\n",
    "    l1.append(i[0])\n",
    "    \n"
   ]
  },
  {
   "cell_type": "code",
   "execution_count": 581,
   "id": "9e433dc0-c80a-480a-a7ca-41cc14b18f4c",
   "metadata": {},
   "outputs": [
    {
     "data": {
      "text/plain": [
       "['t',\n",
       " 'i',\n",
       " 'm',\n",
       " 'f',\n",
       " 'f',\n",
       " 'o',\n",
       " 't',\n",
       " 's',\n",
       " 'i',\n",
       " 'm',\n",
       " 't',\n",
       " 'm',\n",
       " 'n',\n",
       " 'i',\n",
       " 'p',\n",
       " 'p',\n",
       " ',',\n",
       " 'i',\n",
       " 'w',\n",
       " 't',\n",
       " 't',\n",
       " 'm',\n",
       " 'p',\n",
       " 'i',\n",
       " 'd',\n",
       " 'a',\n",
       " 'f',\n",
       " 'a',\n",
       " 'm',\n",
       " 'b',\n",
       " 'T',\n",
       " 'C']"
      ]
     },
     "execution_count": 581,
     "metadata": {},
     "output_type": "execute_result"
    }
   ],
   "source": [
    "l1"
   ]
  },
  {
   "cell_type": "code",
   "execution_count": 583,
   "id": "ec83f4ca-f6a3-47de-b399-36169801f491",
   "metadata": {},
   "outputs": [],
   "source": [
    "#r, r+, rb, rb+, w, wb, wb+, a"
   ]
  },
  {
   "cell_type": "code",
   "execution_count": 587,
   "id": "6ec8e3ac-6f32-48a6-a7bb-96fb29b17f73",
   "metadata": {},
   "outputs": [],
   "source": [
    "f.flush()"
   ]
  },
  {
   "cell_type": "code",
   "execution_count": 589,
   "id": "31cc5ee9-6fdd-4998-bb4f-720cfecaa146",
   "metadata": {},
   "outputs": [
    {
     "data": {
      "text/plain": [
       "'test1.txt'"
      ]
     },
     "execution_count": 589,
     "metadata": {},
     "output_type": "execute_result"
    }
   ],
   "source": [
    "f.name"
   ]
  },
  {
   "cell_type": "code",
   "execution_count": 591,
   "id": "e2d1a840-72af-46af-a908-942c24b1d263",
   "metadata": {},
   "outputs": [
    {
     "data": {
      "text/plain": [
       "9"
      ]
     },
     "execution_count": 591,
     "metadata": {},
     "output_type": "execute_result"
    }
   ],
   "source": [
    "f.fileno()"
   ]
  },
  {
   "cell_type": "code",
   "execution_count": 593,
   "id": "58ad543a-006a-4442-9c44-e8443f002d73",
   "metadata": {},
   "outputs": [
    {
     "name": "stdout",
     "output_type": "stream",
     "text": [
      " Volume in drive D is Data\n",
      " Volume Serial Number is 8AA4-C26A\n",
      "\n",
      " Directory of D:\\Pooja\\Jupyter_Pooja\\pooja_jupyter\n",
      "\n",
      "02-11-2024  16:24    <DIR>          .\n",
      "26-10-2024  15:31    <DIR>          ..\n",
      "28-10-2024  16:04    <DIR>          .ipynb_checkpoints\n",
      "02-11-2024  16:24           100,288 ineuron.ipynb\n",
      "02-11-2024  14:34               591 test1.txt\n",
      "02-11-2024  14:06                38 test2.txt\n",
      "               3 File(s)        100,917 bytes\n",
      "               3 Dir(s)  250,496,536,576 bytes free\n"
     ]
    }
   ],
   "source": [
    "%ls"
   ]
  },
  {
   "cell_type": "code",
   "execution_count": 617,
   "id": "605245e3-3a04-4654-9fb8-2513b7e2ea4a",
   "metadata": {},
   "outputs": [],
   "source": [
    "f =open(\"test1.txt\", \"r+\")"
   ]
  },
  {
   "cell_type": "code",
   "execution_count": 625,
   "id": "b705658b-269e-4d16-9f1c-83f2d5daec84",
   "metadata": {},
   "outputs": [],
   "source": [
    "f.close()\n"
   ]
  },
  {
   "cell_type": "code",
   "execution_count": 627,
   "id": "d6ff296e-3eb0-4788-9d80-48c9081edba0",
   "metadata": {},
   "outputs": [
    {
     "name": "stdout",
     "output_type": "stream",
     "text": [
      " Volume in drive D is Data\n",
      " Volume Serial Number is 8AA4-C26A\n",
      "\n",
      " Directory of D:\\Pooja\\Jupyter_Pooja\\pooja_jupyter\n",
      "\n",
      "02-11-2024  16:30    <DIR>          .\n",
      "26-10-2024  15:31    <DIR>          ..\n",
      "28-10-2024  16:04    <DIR>          .ipynb_checkpoints\n",
      "02-11-2024  16:30           103,266 ineuron.ipynb\n",
      "02-11-2024  14:34               591 test1.txt\n",
      "02-11-2024  14:06                38 test2.txt\n",
      "               3 File(s)        103,895 bytes\n",
      "               3 Dir(s)  250,496,532,480 bytes free\n"
     ]
    }
   ],
   "source": [
    "ls"
   ]
  },
  {
   "cell_type": "code",
   "execution_count": 621,
   "id": "0dc22165-d068-4240-8119-a83d77a35dba",
   "metadata": {},
   "outputs": [],
   "source": [
    "import os"
   ]
  },
  {
   "cell_type": "code",
   "execution_count": 629,
   "id": "89e0c4b0-4e5e-4c3a-9978-476a2eea8a93",
   "metadata": {},
   "outputs": [],
   "source": [
    "os.remove(\"test2.txt\")"
   ]
  },
  {
   "cell_type": "code",
   "execution_count": null,
   "id": "96b7b236-1d0c-4a78-a359-ca3de65a1591",
   "metadata": {},
   "outputs": [],
   "source": []
  },
  {
   "cell_type": "code",
   "execution_count": 632,
   "id": "ac00804c-f92b-463c-b631-aecd8fbb91e9",
   "metadata": {},
   "outputs": [
    {
     "name": "stdout",
     "output_type": "stream",
     "text": [
      " Volume in drive D is Data\n",
      " Volume Serial Number is 8AA4-C26A\n",
      "\n",
      " Directory of D:\\Pooja\\Jupyter_Pooja\\pooja_jupyter\n",
      "\n",
      "02-11-2024  16:31    <DIR>          .\n",
      "26-10-2024  15:31    <DIR>          ..\n",
      "28-10-2024  16:04    <DIR>          .ipynb_checkpoints\n",
      "02-11-2024  16:30           103,266 ineuron.ipynb\n",
      "02-11-2024  14:34               591 test1.txt\n",
      "               2 File(s)        103,857 bytes\n",
      "               3 Dir(s)  250,496,532,480 bytes free\n"
     ]
    }
   ],
   "source": [
    "ls"
   ]
  },
  {
   "cell_type": "code",
   "execution_count": 11,
   "id": "a586a6e5-f176-438a-8770-05e0c25aa02c",
   "metadata": {},
   "outputs": [],
   "source": [
    "f =open(\"test1.txt\")"
   ]
  },
  {
   "cell_type": "code",
   "execution_count": 13,
   "id": "082a183c-d23c-46e0-8e61-b022dfab81ee",
   "metadata": {},
   "outputs": [],
   "source": [
    "f.close()"
   ]
  },
  {
   "cell_type": "code",
   "execution_count": 15,
   "id": "fcabca59-9508-4731-bf48-b8866a456f88",
   "metadata": {},
   "outputs": [],
   "source": [
    "import os"
   ]
  },
  {
   "cell_type": "code",
   "execution_count": 17,
   "id": "b47bf319-c657-4d4b-8de8-1bc68df1f685",
   "metadata": {},
   "outputs": [],
   "source": [
    "os.remove(\"test1.txt\")"
   ]
  },
  {
   "cell_type": "code",
   "execution_count": 19,
   "id": "6fbec4e1-4722-4c99-bde6-73fd63166301",
   "metadata": {},
   "outputs": [
    {
     "name": "stdout",
     "output_type": "stream",
     "text": [
      " Volume in drive D is Data\n",
      " Volume Serial Number is 8AA4-C26A\n",
      "\n",
      " Directory of D:\\Pooja\\Jupyter_Pooja\\pooja_jupyter\n",
      "\n",
      "02-11-2024  16:38    <DIR>          .\n",
      "26-10-2024  15:31    <DIR>          ..\n",
      "28-10-2024  16:04    <DIR>          .ipynb_checkpoints\n",
      "02-11-2024  16:38           105,740 ineuron.ipynb\n",
      "               1 File(s)        105,740 bytes\n",
      "               3 Dir(s)  250,496,532,480 bytes free\n"
     ]
    }
   ],
   "source": [
    "%ls"
   ]
  },
  {
   "cell_type": "code",
   "execution_count": 21,
   "id": "e5809293-1775-4f4a-8495-8fae3fa18d2f",
   "metadata": {},
   "outputs": [],
   "source": [
    "# os function : delete file , remove "
   ]
  },
  {
   "cell_type": "code",
   "execution_count": 23,
   "id": "bd46f5b5-96f6-4f74-99cc-1379457aef65",
   "metadata": {},
   "outputs": [
    {
     "data": {
      "text/plain": [
       "'D:\\\\Pooja\\\\Jupyter_Pooja\\\\pooja_jupyter'"
      ]
     },
     "execution_count": 23,
     "metadata": {},
     "output_type": "execute_result"
    }
   ],
   "source": [
    "os.getcwd()"
   ]
  },
  {
   "cell_type": "code",
   "execution_count": 25,
   "id": "d77e984c-7f48-45da-bf45-72a15e4c429c",
   "metadata": {},
   "outputs": [
    {
     "data": {
      "text/plain": [
       "'D:\\\\Pooja\\\\Jupyter_Pooja\\\\pooja_jupyter'"
      ]
     },
     "execution_count": 25,
     "metadata": {},
     "output_type": "execute_result"
    }
   ],
   "source": [
    "pwd"
   ]
  },
  {
   "cell_type": "code",
   "execution_count": 27,
   "id": "7aa0e33f-b827-410d-b2b4-024d25051761",
   "metadata": {},
   "outputs": [
    {
     "data": {
      "text/plain": [
       "['.ipynb_checkpoints', 'ineuron.ipynb']"
      ]
     },
     "execution_count": 27,
     "metadata": {},
     "output_type": "execute_result"
    }
   ],
   "source": [
    "os.listdir()"
   ]
  },
  {
   "cell_type": "code",
   "execution_count": 165,
   "id": "a1ca81cb-30ae-4f87-ba82-019d91f3e18d",
   "metadata": {},
   "outputs": [],
   "source": [
    "f1=open(\"test0.txt\", \"w\")"
   ]
  },
  {
   "cell_type": "code",
   "execution_count": 167,
   "id": "8802446a-cf44-49af-98b9-088d405f03f6",
   "metadata": {},
   "outputs": [
    {
     "data": {
      "text/plain": [
       "14"
      ]
     },
     "execution_count": 167,
     "metadata": {},
     "output_type": "execute_result"
    }
   ],
   "source": [
    "f.write(\"this is file 1\")"
   ]
  },
  {
   "cell_type": "code",
   "execution_count": 169,
   "id": "e7d18d63-2c48-4257-b0f9-4c319b75a33e",
   "metadata": {},
   "outputs": [
    {
     "data": {
      "text/plain": [
       "0"
      ]
     },
     "execution_count": 169,
     "metadata": {},
     "output_type": "execute_result"
    }
   ],
   "source": [
    "f.seek(0)"
   ]
  },
  {
   "cell_type": "code",
   "execution_count": 94,
   "id": "b41af457-8c06-424c-8233-b46f4f98d092",
   "metadata": {},
   "outputs": [],
   "source": [
    "f = open(\"test1.txt\", \"w\")"
   ]
  },
  {
   "cell_type": "code",
   "execution_count": 96,
   "id": "c628af16-1bf3-4f1d-94a9-3299879f1699",
   "metadata": {},
   "outputs": [
    {
     "data": {
      "text/plain": [
       "16"
      ]
     },
     "execution_count": 96,
     "metadata": {},
     "output_type": "execute_result"
    }
   ],
   "source": [
    "f.write(\"this is a file 2\")"
   ]
  },
  {
   "cell_type": "code",
   "execution_count": 218,
   "id": "428451cf-b504-423e-8bf0-d5215ed889b0",
   "metadata": {},
   "outputs": [
    {
     "data": {
      "text/plain": [
       "['.ipynb_checkpoints', 'ineuron.ipynb', 'testall.txt']"
      ]
     },
     "execution_count": 218,
     "metadata": {},
     "output_type": "execute_result"
    }
   ],
   "source": [
    "os.listdir(\"D:\\\\Pooja\\\\Jupyter_Pooja\\\\pooja_jupyter\")"
   ]
  },
  {
   "cell_type": "code",
   "execution_count": 220,
   "id": "5df693f1-943b-4ad6-991f-b6a2edb7d4f1",
   "metadata": {},
   "outputs": [
    {
     "data": {
      "text/plain": [
       "'D:\\\\Pooja\\\\Jupyter_Pooja\\\\pooja_jupyter'"
      ]
     },
     "execution_count": 220,
     "metadata": {},
     "output_type": "execute_result"
    }
   ],
   "source": [
    "os.getcwd()"
   ]
  },
  {
   "cell_type": "code",
   "execution_count": 228,
   "id": "5a21d0d9-88bf-42ed-a20a-90aa263b37d2",
   "metadata": {},
   "outputs": [],
   "source": [
    "f.close()"
   ]
  },
  {
   "cell_type": "code",
   "execution_count": null,
   "id": "f47d0071-7f16-4be1-bfd7-f23728857c92",
   "metadata": {},
   "outputs": [],
   "source": []
  },
  {
   "cell_type": "code",
   "execution_count": null,
   "id": "3714e1d9-482c-4123-bb31-9302a562f2f4",
   "metadata": {},
   "outputs": [],
   "source": []
  },
  {
   "cell_type": "code",
   "execution_count": 155,
   "id": "4c5f26d8-c11d-4c8e-bfaa-64db71774436",
   "metadata": {},
   "outputs": [],
   "source": [
    "#exceptional handling"
   ]
  },
  {
   "cell_type": "code",
   "execution_count": 251,
   "id": "c6dde2a6-abca-4cbb-9cf0-3471f51be1b2",
   "metadata": {},
   "outputs": [
    {
     "name": "stdin",
     "output_type": "stream",
     "text": [
      " 0\n"
     ]
    },
    {
     "name": "stdout",
     "output_type": "stream",
     "text": [
      "mistake\n"
     ]
    }
   ],
   "source": [
    "try:\n",
    "    a= 5\n",
    "    b = int(input())\n",
    "    a/b\n",
    "except:\n",
    "    print(\"mistake\")"
   ]
  },
  {
   "cell_type": "code",
   "execution_count": 249,
   "id": "c3ec3a15-72fc-4013-a274-00637942acf0",
   "metadata": {},
   "outputs": [
    {
     "name": "stdout",
     "output_type": "stream",
     "text": [
      "mistake\n"
     ]
    }
   ],
   "source": [
    "try:\n",
    "    f = open(\"test.txt\",\"r\")\n",
    "    f.write(\"pooja \")\n",
    "except:\n",
    "    print(\"mistake\")"
   ]
  },
  {
   "cell_type": "code",
   "execution_count": 257,
   "id": "3ee27c34-52b9-401a-a784-481f2d3b09d3",
   "metadata": {},
   "outputs": [
    {
     "name": "stdout",
     "output_type": "stream",
     "text": [
      "there was mistake\n",
      "this is my code\n"
     ]
    }
   ],
   "source": [
    "try:\n",
    "    f = open(\"test.txt\",\"r\")\n",
    "    f.write(\"pooja\")\n",
    "except:\n",
    "    print(\"there was mistake\")\n",
    "print(\"this is my code\")"
   ]
  },
  {
   "cell_type": "code",
   "execution_count": 287,
   "id": "d8233d34-f4fc-49a1-959b-51564bdcce50",
   "metadata": {},
   "outputs": [
    {
     "ename": "SyntaxError",
     "evalue": "invalid syntax (1620396304.py, line 3)",
     "output_type": "error",
     "traceback": [
      "\u001b[1;36m  Cell \u001b[1;32mIn[287], line 3\u001b[1;36m\u001b[0m\n\u001b[1;33m    for i range(len(i)):\u001b[0m\n\u001b[1;37m          ^\u001b[0m\n\u001b[1;31mSyntaxError\u001b[0m\u001b[1;31m:\u001b[0m invalid syntax\n"
     ]
    }
   ],
   "source": [
    "l = [4,5,6,7,8,8,9,0] # syntaxical error cannot cover under except/Exception\n",
    "try:\n",
    "    for i range(len(i)):\n",
    "         print(i)\n",
    "except Exception as e :\n",
    "    print(\"this is my code\")"
   ]
  },
  {
   "cell_type": "code",
   "execution_count": 289,
   "id": "168f075b-9bdd-4db6-af8a-68f6fa00a0fe",
   "metadata": {},
   "outputs": [
    {
     "name": "stdout",
     "output_type": "stream",
     "text": [
      "4\n",
      "5\n",
      "6\n",
      "7\n",
      "8\n",
      "8\n",
      "9\n",
      "0\n",
      "list index out of range\n",
      "END\n"
     ]
    }
   ],
   "source": [
    "l = [4,5,6,7,8,8,9,0]\n",
    "try:\n",
    "    for i in range(len(l)+1) :\n",
    "        print(l[i])\n",
    "except Exception as e :\n",
    "    print(e)\n",
    "print(\"END\")"
   ]
  },
  {
   "cell_type": "code",
   "execution_count": 293,
   "id": "dbc638da-2e92-4b2f-9a06-44c9d1d3380b",
   "metadata": {},
   "outputs": [
    {
     "name": "stdin",
     "output_type": "stream",
     "text": [
      " harshi\n"
     ]
    },
    {
     "name": "stdout",
     "output_type": "stream",
     "text": [
      "invalid literal for int() with base 10: 'harshi'\n",
      "end\n"
     ]
    }
   ],
   "source": [
    "try:\n",
    "    a = int(input())\n",
    "    b = int(input())\n",
    "except Exception as e:\n",
    "    print(e)\n",
    "print(\"end\")"
   ]
  },
  {
   "cell_type": "code",
   "execution_count": 295,
   "id": "7d1fddfb-afd0-4b06-b24f-3aa07c2e7f53",
   "metadata": {},
   "outputs": [],
   "source": [
    "#logging"
   ]
  },
  {
   "cell_type": "code",
   "execution_count": 299,
   "id": "f38466e6-b760-4bc4-a343-fb98d9853370",
   "metadata": {},
   "outputs": [
    {
     "name": "stdout",
     "output_type": "stream",
     "text": [
      "this is my handler\n",
      "1\n",
      "2\n",
      "3\n",
      "4\n",
      "5\n"
     ]
    }
   ],
   "source": [
    "try:\n",
    "    f =open(\"test10.txt\",\"r\")\n",
    "    f.write(\"this is my code with exception handling\")\n",
    "    print(\"this is my code after write ops\")\n",
    "except Exception as e:\n",
    "    print(\"this is my handler\")\n",
    "l = [1,2,3,4,5]\n",
    "for i in l:\n",
    "    print(i)"
   ]
  },
  {
   "cell_type": "code",
   "execution_count": 303,
   "id": "d2a279ed-48a3-470a-83b8-19e5dc9e595a",
   "metadata": {},
   "outputs": [
    {
     "name": "stdout",
     "output_type": "stream",
     "text": [
      "this is my handler\n",
      "1\n",
      "2\n",
      "3\n",
      "4\n",
      "5\n"
     ]
    }
   ],
   "source": [
    "try:\n",
    "    f =open(\"test10.txt\",\"r\")\n",
    "    f.write(\"this is my code with exception handling\")\n",
    "    print(\"this is my code after write ops\")\n",
    "except Exception as e:\n",
    "    print(\"this is my handler\")\n",
    "try:\n",
    "    l = [1,2,3,4,5]\n",
    "    for i in l :\n",
    "        print(i)\n",
    "except:\n",
    "    print(\"this is a handler for for loop\")"
   ]
  },
  {
   "cell_type": "code",
   "execution_count": 309,
   "id": "a4bfb38b-8c31-4ef7-b9b5-33bebca43b6e",
   "metadata": {
    "scrolled": true
   },
   "outputs": [
    {
     "name": "stdin",
     "output_type": "stream",
     "text": [
      " df\n"
     ]
    },
    {
     "name": "stdout",
     "output_type": "stream",
     "text": [
      "invalid literal for int() with base 10: 'df'\n"
     ]
    }
   ],
   "source": [
    "try:\n",
    "    d ={\"key1\":\"sudh\",\"key2\":[1,2,3,4,5], \"key3\": (4,5,6,7,78)}\n",
    "    d[\"key4\"]= int(input())\n",
    "except Exception as e:     #exception is a super class\n",
    "    print(e)"
   ]
  },
  {
   "cell_type": "code",
   "execution_count": 311,
   "id": "81edd44d-7de9-46b1-9f49-b808edd3b9c2",
   "metadata": {},
   "outputs": [
    {
     "name": "stdin",
     "output_type": "stream",
     "text": [
      " jsccs\n"
     ]
    },
    {
     "name": "stdout",
     "output_type": "stream",
     "text": [
      "invalid literal for int() with base 10: 'jsccs'\n"
     ]
    }
   ],
   "source": [
    "try:\n",
    "    d ={\"key1\":\"sudh\",\"key2\":[1,2,3,4,5], \"key3\": (4,5,6,7,78)}\n",
    "    d[\"key4\"]= int(input())\n",
    "except ValueError as v:     #valueerror is a sub class\n",
    "    print(v)"
   ]
  },
  {
   "cell_type": "code",
   "execution_count": 321,
   "id": "958f13ae-37e5-4c4a-9f88-20f5c217f0d9",
   "metadata": {},
   "outputs": [
    {
     "name": "stdin",
     "output_type": "stream",
     "text": [
      " 6\n"
     ]
    },
    {
     "name": "stdout",
     "output_type": "stream",
     "text": [
      "[Errno 2] No such file or directory: 'test10'\n"
     ]
    }
   ],
   "source": [
    "try:\n",
    "    d ={\"key1\":\"sudh\",\"key2\":[1,2,3,4,5], \"key3\": (4,5,6,7,78)}\n",
    "    d[\"key4\"]= int(input())\n",
    "    f =open(\"test10\", \"r\")\n",
    "except Exception as e:     #valueerror is a sub class use Exception as nature of value is changed\n",
    "    print(e)"
   ]
  },
  {
   "cell_type": "code",
   "execution_count": 337,
   "id": "734311f3-b113-4866-a4d4-e0ea786b1132",
   "metadata": {},
   "outputs": [
    {
     "name": "stdin",
     "output_type": "stream",
     "text": [
      " fjg\n"
     ]
    },
    {
     "name": "stdout",
     "output_type": "stream",
     "text": [
      "v invalid literal for int() with base 10: 'fjg'\n"
     ]
    }
   ],
   "source": [
    "try:\n",
    "    d ={\"key1\":\"sudh\",\"key2\":[1,2,3,4,5], \"key3\": (4,5,6,7,78)}\n",
    "    d[\"key4\"]= int(input())\n",
    "    f =open(\"test10\", \"r\")\n",
    "except ValueError as v:\n",
    "    print(\"v\", v)\n",
    "except FileNotFoundError as fe:\n",
    "    print(\"fe\", fe)\n",
    "except Exception as e:     #valueerror is a sub class use Exception as nature of value is changed\n",
    "    print(\"e\", e)"
   ]
  },
  {
   "cell_type": "code",
   "execution_count": 339,
   "id": "674c7738-b397-4af3-aecb-3c5a6f77fbe3",
   "metadata": {},
   "outputs": [],
   "source": [
    "#try,except and else"
   ]
  },
  {
   "cell_type": "code",
   "execution_count": 345,
   "id": "86ff9f67-819a-419f-bea1-108edc4b9aff",
   "metadata": {},
   "outputs": [
    {
     "name": "stdout",
     "output_type": "stream",
     "text": [
      "it will execute once try block executed succesfully\n"
     ]
    }
   ],
   "source": [
    "try:\n",
    "    f=open(\"test10.txt\",\"w\")\n",
    "    f.write(\"this is my code in try\")\n",
    "except Exception as e:\n",
    "    print(\"handle an error\")\n",
    "else:#if try block not executed succesfully it will come to except block and not to else\n",
    "    print(\"it will execute once try block executed succesfully\")\n",
    "    f.close()"
   ]
  },
  {
   "cell_type": "code",
   "execution_count": 347,
   "id": "06020450-625d-4a51-a415-ae1ec12df217",
   "metadata": {},
   "outputs": [
    {
     "name": "stdout",
     "output_type": "stream",
     "text": [
      "handle an error\n"
     ]
    }
   ],
   "source": [
    "try:\n",
    "    f=open(\"test10.txt\",\"r\")\n",
    "    f.write(\"this is my code in try\")\n",
    "except Exception as e:\n",
    "    print(\"handle an error\")\n",
    "else:#if try block not executed succesfully it will come to except block and not to else\n",
    "    print(\"it will execute once try block executed succesfully\")\n",
    "    f.close()"
   ]
  },
  {
   "cell_type": "code",
   "execution_count": 351,
   "id": "c76e9001-150e-45b0-ae0c-87e53ef800aa",
   "metadata": {},
   "outputs": [
    {
     "name": "stdout",
     "output_type": "stream",
     "text": [
      "e [Errno 2] No such file or directory: 'test43'\n",
      "do this for sure\n"
     ]
    }
   ],
   "source": [
    "try:\n",
    "    f=open(\"test43\",\"r\")\n",
    "except Exception as e:\n",
    "    print(\"e\",e)\n",
    "else:\n",
    "    print(\"do this on succesfully execution of try block\")\n",
    "finally:\n",
    "    print(\"do this for sure\")\n",
    "    "
   ]
  },
  {
   "cell_type": "code",
   "execution_count": 359,
   "id": "dda913a8-3a85-4553-923e-151d2d8d9099",
   "metadata": {},
   "outputs": [
    {
     "name": "stdout",
     "output_type": "stream",
     "text": [
      "do this on succesfully execution of try block\n",
      "do this for sure\n",
      "handle it\n",
      "it will come to it\n"
     ]
    }
   ],
   "source": [
    "try:\n",
    "    f=open(\"test43.txt\",\"w\")\n",
    "except Exception as e:\n",
    "    print(\"e\",e)\n",
    "else:\n",
    "    print(\"do this on succesfully execution of try block\")\n",
    "finally:\n",
    "    print(\"do this for sure\")\n",
    "    try:\n",
    "        f=open(\"bcvs\",\"r\")\n",
    "    except:\n",
    "        print(\"handle it\")\n",
    "    finally:\n",
    "        print(\"it will come to it\")\n",
    "    "
   ]
  },
  {
   "cell_type": "code",
   "execution_count": 468,
   "id": "18dede84-a49e-4b2a-bfa8-21ce89107447",
   "metadata": {},
   "outputs": [],
   "source": [
    "def askint():\n",
    "    try:\n",
    "        a= int(input())\n",
    "        return a\n",
    "    except Exception as e:\n",
    "        print(\"this is my input error : \",e)\n"
   ]
  },
  {
   "cell_type": "code",
   "execution_count": 470,
   "id": "d8cbf3ae-24a2-445e-a339-c08ffb8c9e0f",
   "metadata": {},
   "outputs": [
    {
     "name": "stdin",
     "output_type": "stream",
     "text": [
      " dfs\n"
     ]
    },
    {
     "name": "stdout",
     "output_type": "stream",
     "text": [
      "this is my input error :  invalid literal for int() with base 10: 'dfs'\n"
     ]
    }
   ],
   "source": [
    "askint()"
   ]
  },
  {
   "cell_type": "code",
   "execution_count": 15,
   "id": "5ecc7083-f733-4508-ab85-0015fdb69329",
   "metadata": {},
   "outputs": [],
   "source": [
    "def integer():\n",
    "    while True:\n",
    "        try:\n",
    "            i=int(input())\n",
    "            if type(i) == int:\n",
    "                return \"yes, you entered a int: \"\n",
    "                flag=False\n",
    "                \n",
    "        except Exception as e:\n",
    "            print(\"please enter a int: \")\n",
    "            "
   ]
  },
  {
   "cell_type": "code",
   "execution_count": 17,
   "id": "db7fb121-caff-49e5-aabe-a0ce146e5c6c",
   "metadata": {},
   "outputs": [
    {
     "name": "stdin",
     "output_type": "stream",
     "text": [
      " efewf\n"
     ]
    },
    {
     "name": "stdout",
     "output_type": "stream",
     "text": [
      "please enter a int: \n"
     ]
    },
    {
     "name": "stdin",
     "output_type": "stream",
     "text": [
      " fs\n"
     ]
    },
    {
     "name": "stdout",
     "output_type": "stream",
     "text": [
      "please enter a int: \n"
     ]
    },
    {
     "name": "stdin",
     "output_type": "stream",
     "text": [
      " 3\n"
     ]
    },
    {
     "data": {
      "text/plain": [
       "'yes, you entered a int: '"
      ]
     },
     "execution_count": 17,
     "metadata": {},
     "output_type": "execute_result"
    }
   ],
   "source": [
    "integer()"
   ]
  },
  {
   "cell_type": "code",
   "execution_count": 13,
   "id": "880dde78-36fe-4644-8cc2-46735b48d146",
   "metadata": {},
   "outputs": [
    {
     "name": "stdin",
     "output_type": "stream",
     "text": [
      " s\n"
     ]
    },
    {
     "name": "stdout",
     "output_type": "stream",
     "text": [
      "enter the int\n"
     ]
    },
    {
     "name": "stdin",
     "output_type": "stream",
     "text": [
      " fd\n"
     ]
    },
    {
     "name": "stdout",
     "output_type": "stream",
     "text": [
      "enter the int\n"
     ]
    },
    {
     "name": "stdin",
     "output_type": "stream",
     "text": [
      " sds\n"
     ]
    },
    {
     "name": "stdout",
     "output_type": "stream",
     "text": [
      "enter the int\n"
     ]
    },
    {
     "name": "stdin",
     "output_type": "stream",
     "text": [
      " 343\n"
     ]
    }
   ],
   "source": [
    "def inte():\n",
    "    while True:\n",
    "        try:\n",
    "            i = int(input())\n",
    "            break\n",
    "        except ValueError as v:\n",
    "            print(\"enter the int\", )\n",
    "inte()"
   ]
  },
  {
   "cell_type": "code",
   "execution_count": 63,
   "id": "f4750a67-5275-4922-93d6-03e2115dbc1e",
   "metadata": {},
   "outputs": [
    {
     "name": "stdin",
     "output_type": "stream",
     "text": [
      " xas\n"
     ]
    },
    {
     "name": "stdout",
     "output_type": "stream",
     "text": [
      "enter int\n"
     ]
    },
    {
     "name": "stdin",
     "output_type": "stream",
     "text": [
      " 2\n"
     ]
    },
    {
     "data": {
      "text/plain": [
       "'great !'"
      ]
     },
     "execution_count": 63,
     "metadata": {},
     "output_type": "execute_result"
    }
   ],
   "source": [
    "def intt():\n",
    "    while True:\n",
    "        try:\n",
    "            x= int(input())\n",
    "            return \"great !\"\n",
    "            break\n",
    "            \n",
    "        except Exception as e:\n",
    "            print(\"enter int\")\n",
    "            \n",
    "        \n",
    "intt()"
   ]
  },
  {
   "cell_type": "code",
   "execution_count": 93,
   "id": "1783069f-f146-4fc7-9e71-90dd046eaa8c",
   "metadata": {},
   "outputs": [],
   "source": [
    "def test(a):\n",
    "        if a < 0:\n",
    "            raise Exception(\"no please\")#IOerror,\n",
    "            return a"
   ]
  },
  {
   "cell_type": "code",
   "execution_count": 97,
   "id": "c86ff2c0-120d-41b2-a381-d3c00dcde4be",
   "metadata": {},
   "outputs": [],
   "source": [
    "test(9)"
   ]
  },
  {
   "cell_type": "code",
   "execution_count": 113,
   "id": "8590d178-7bbe-433c-8e65-397bc82c117c",
   "metadata": {},
   "outputs": [
    {
     "name": "stdin",
     "output_type": "stream",
     "text": [
      " 7\n"
     ]
    },
    {
     "name": "stdout",
     "output_type": "stream",
     "text": [
      "raised exception '<' not supported between instances of 'str' and 'int'\n"
     ]
    }
   ],
   "source": [
    "try:\n",
    "    a= input()\n",
    "    test(a)\n",
    "except Exception as e:\n",
    "    print(\"raised exception\", e)"
   ]
  },
  {
   "cell_type": "code",
   "execution_count": 115,
   "id": "ae03930c-86cc-421f-9e87-43baed95774e",
   "metadata": {},
   "outputs": [],
   "source": [
    "#logging : keep track of error, debug,info,warning,critical log"
   ]
  },
  {
   "cell_type": "code",
   "execution_count": 13,
   "id": "95cecdd3-0973-429c-a48e-d4b64a2f06d7",
   "metadata": {},
   "outputs": [],
   "source": [
    "import logging"
   ]
  },
  {
   "cell_type": "code",
   "execution_count": 4,
   "id": "b6ee93ee-68e0-48ef-a9a9-152a5f2ce2eb",
   "metadata": {},
   "outputs": [],
   "source": [
    "logging.basicConfig(filename =\"test.log\", level=logging.INFO) "
   ]
  },
  {
   "cell_type": "code",
   "execution_count": 6,
   "id": "783e820f-c09c-469b-81b1-68c4b76a5f71",
   "metadata": {},
   "outputs": [],
   "source": [
    "logging.info(\"this is my info log\")\n",
    "logging.warning(\"this is my warning log\")\n",
    "logging.error(\"this is my error log\")"
   ]
  },
  {
   "cell_type": "code",
   "execution_count": 8,
   "id": "20fc7882-9ec2-48d3-b2e5-96761f939b54",
   "metadata": {},
   "outputs": [],
   "source": [
    "logging.shutdown()"
   ]
  },
  {
   "cell_type": "code",
   "execution_count": 10,
   "id": "5dc7141d-7865-4974-a502-6ee246cc0085",
   "metadata": {},
   "outputs": [
    {
     "data": {
      "text/plain": [
       "'D:\\\\Pooja\\\\Jupyter_Pooja\\\\pooja_jupyter'"
      ]
     },
     "execution_count": 10,
     "metadata": {},
     "output_type": "execute_result"
    }
   ],
   "source": [
    "pwd()"
   ]
  },
  {
   "cell_type": "code",
   "execution_count": 21,
   "id": "39b2053f-7a55-49ce-b78a-60db253beca4",
   "metadata": {},
   "outputs": [],
   "source": [
    "logging.basicConfig(filename=\" test2.log\", level =logging.ERROR, format = \"%(asctime)s %(levelname)s %(message)s\")"
   ]
  },
  {
   "cell_type": "code",
   "execution_count": 40,
   "id": "a93375ab-7762-4122-9744-05c765830936",
   "metadata": {
    "scrolled": true
   },
   "outputs": [],
   "source": [
    "logging.info(\"this is my info log\")    #error-warning-info-debug\n",
    "logging.warning(\"this is my warning log\")\n",
    "logging.debug(\"this is my debug log\")\n",
    "logging.error(\"this is my error log\")"
   ]
  },
  {
   "cell_type": "code",
   "execution_count": 12,
   "id": "d67104d8-4d01-494e-b1e6-eca205a1f595",
   "metadata": {},
   "outputs": [],
   "source": [
    "import logging"
   ]
  },
  {
   "cell_type": "code",
   "execution_count": 14,
   "id": "5fc4befb-b04b-4edf-99d4-e9cd57606235",
   "metadata": {},
   "outputs": [],
   "source": [
    "logging.basicConfig(filename=\"test3.log\", level = logging.DEBUG, format= \"%(asctime)s %(levelname)s %(message)s\")"
   ]
  },
  {
   "cell_type": "code",
   "execution_count": 16,
   "id": "54a5b8fe-6c18-4523-936c-bffc0da804e5",
   "metadata": {},
   "outputs": [],
   "source": [
    "logging.info(\"this is my info log\")    #error-warning-info-debug\n",
    "logging.warning(\"this is my warning log\")\n",
    "logging.debug(\"this is my debug log\")\n",
    "logging.error(\"this is my error log\")"
   ]
  },
  {
   "cell_type": "code",
   "execution_count": 18,
   "id": "93cadba8-3eb7-405b-a4f2-2aa2144f2339",
   "metadata": {},
   "outputs": [],
   "source": [
    "def divbyzero(a,b):\n",
    "    logging.info(\"this is a start of my code and i am trying to enter %s and %s \", a,b)\n",
    "    try:\n",
    "        div =a/b\n",
    "        logging.info(\"executed succ\")\n",
    "    except Exception as e:\n",
    "        logging.error(\"Error has happed\")\n",
    "        logging.exception(\"exception occured\"+ str(e))"
   ]
  },
  {
   "cell_type": "code",
   "execution_count": 20,
   "id": "2f216d96-39ce-43e4-855c-b9767db422e9",
   "metadata": {},
   "outputs": [],
   "source": [
    "divbyzero(4,5)"
   ]
  },
  {
   "cell_type": "code",
   "execution_count": 22,
   "id": "15ad834b-cfd2-4808-bd62-0c270c2c678d",
   "metadata": {},
   "outputs": [],
   "source": [
    "divbyzero(4,0)"
   ]
  },
  {
   "cell_type": "code",
   "execution_count": 26,
   "id": "e885495e-8b92-4c03-b6fd-15ad791870ad",
   "metadata": {},
   "outputs": [],
   "source": [
    "logging.shutdown()"
   ]
  },
  {
   "cell_type": "code",
   "execution_count": 28,
   "id": "601b89cb-673f-48ba-b729-985d7e3d31fa",
   "metadata": {},
   "outputs": [],
   "source": [
    "#module"
   ]
  },
  {
   "cell_type": "code",
   "execution_count": 7,
   "id": "8c210f4f-c838-4cb7-b914-b993e76069ac",
   "metadata": {},
   "outputs": [],
   "source": [
    "import os"
   ]
  },
  {
   "cell_type": "code",
   "execution_count": 9,
   "id": "55410773-f03e-41b0-98a7-ef02f3101a87",
   "metadata": {},
   "outputs": [],
   "source": [
    "def test (a,b):\n",
    "    return a+b"
   ]
  },
  {
   "cell_type": "code",
   "execution_count": 11,
   "id": "772e345b-d0f4-40c4-8c92-475953598554",
   "metadata": {},
   "outputs": [
    {
     "data": {
      "text/plain": [
       "'D:\\\\Pooja\\\\Jupyter_Pooja\\\\pooja_jupyter'"
      ]
     },
     "execution_count": 11,
     "metadata": {},
     "output_type": "execute_result"
    }
   ],
   "source": [
    "pwd()"
   ]
  },
  {
   "cell_type": "code",
   "execution_count": 17,
   "id": "0d80e09f-dc3e-4696-bb8a-94778c3419ce",
   "metadata": {},
   "outputs": [
    {
     "data": {
      "text/plain": [
       "<_io.TextIOWrapper name='test2.py' mode='w' encoding='cp1252'>"
      ]
     },
     "execution_count": 17,
     "metadata": {},
     "output_type": "execute_result"
    }
   ],
   "source": [
    "open(\"test2.py\",\"w\")"
   ]
  },
  {
   "cell_type": "code",
   "execution_count": 32,
   "id": "83396ebf-20b9-4765-b51d-59c13a632eaf",
   "metadata": {},
   "outputs": [],
   "source": [
    "import test2"
   ]
  },
  {
   "cell_type": "code",
   "execution_count": 34,
   "id": "8573fb4d-6a64-46c3-8e9d-186db7711f46",
   "metadata": {},
   "outputs": [
    {
     "data": {
      "text/plain": [
       "5"
      ]
     },
     "execution_count": 34,
     "metadata": {},
     "output_type": "execute_result"
    }
   ],
   "source": [
    "test2.add(2,3)"
   ]
  },
  {
   "cell_type": "code",
   "execution_count": 36,
   "id": "df9a6907-6d30-4fa2-bd94-f0a70efc95b0",
   "metadata": {},
   "outputs": [
    {
     "data": {
      "text/plain": [
       "0.6666666666666666"
      ]
     },
     "execution_count": 36,
     "metadata": {},
     "output_type": "execute_result"
    }
   ],
   "source": [
    "test2.div(4,6)"
   ]
  },
  {
   "cell_type": "code",
   "execution_count": 39,
   "id": "23da520d-f472-4def-b1da-74f602bc9480",
   "metadata": {},
   "outputs": [
    {
     "data": {
      "text/plain": [
       "<_io.TextIOWrapper name='my_module.py' mode='w' encoding='cp1252'>"
      ]
     },
     "execution_count": 39,
     "metadata": {},
     "output_type": "execute_result"
    }
   ],
   "source": [
    "open(\"my_module.py\",\"w\")"
   ]
  },
  {
   "cell_type": "code",
   "execution_count": 6,
   "id": "a6e85d4c-eb47-4e8f-84ef-3886e3ba4092",
   "metadata": {},
   "outputs": [],
   "source": [
    "import my_module"
   ]
  },
  {
   "cell_type": "code",
   "execution_count": 8,
   "id": "8ddcd984-cbf4-42a2-9ee3-452c12f20fec",
   "metadata": {},
   "outputs": [
    {
     "data": {
      "text/plain": [
       "['data science', 'blockchin', 'drone', 'robotics', 'cloud']"
      ]
     },
     "execution_count": 8,
     "metadata": {},
     "output_type": "execute_result"
    }
   ],
   "source": [
    "my_module.get_course()"
   ]
  },
  {
   "cell_type": "code",
   "execution_count": 10,
   "id": "fc6f5860-f399-4892-a043-5051009a0e2e",
   "metadata": {},
   "outputs": [
    {
     "data": {
      "text/plain": [
       "['greeting']"
      ]
     },
     "execution_count": 10,
     "metadata": {},
     "output_type": "execute_result"
    }
   ],
   "source": [
    "my_module.greeting()"
   ]
  },
  {
   "cell_type": "code",
   "execution_count": 1,
   "id": "bf4a2b33-b7f0-4345-b2f0-36e0535d83d0",
   "metadata": {},
   "outputs": [],
   "source": [
    "#packages multiple py files hold in one directory/folder call as package\n",
    "#pycharm downloaded and done tasks"
   ]
  },
  {
   "cell_type": "code",
   "execution_count": 19,
   "id": "1a599094-bbb2-4ed6-b89e-f8ca947a648c",
   "metadata": {},
   "outputs": [],
   "source": [
    "dir = \"Pooja/Jupyter_Pooja/pooja_jupyter/ineuron.ipynb\""
   ]
  },
  {
   "cell_type": "code",
   "execution_count": 31,
   "id": "3cce1c1d-f3be-45a9-a65d-e0aa3c874936",
   "metadata": {},
   "outputs": [],
   "source": [
    "import os"
   ]
  },
  {
   "cell_type": "code",
   "execution_count": 33,
   "id": "32a175cb-5bdf-43ad-af89-d80e7a707915",
   "metadata": {},
   "outputs": [],
   "source": [
    "os.chdir('D:/Pooja/Jupyter_Pooja/pooja_jupyter')"
   ]
  },
  {
   "cell_type": "code",
   "execution_count": 35,
   "id": "5dafccb0-876a-4446-9532-4522165ad1dc",
   "metadata": {},
   "outputs": [
    {
     "data": {
      "text/plain": [
       "'D:\\\\Pooja\\\\Jupyter_Pooja\\\\pooja_jupyter'"
      ]
     },
     "execution_count": 35,
     "metadata": {},
     "output_type": "execute_result"
    }
   ],
   "source": [
    "pwd"
   ]
  },
  {
   "cell_type": "code",
   "execution_count": 37,
   "id": "d65b24c9-6fd6-4d96-977f-10ef235559a6",
   "metadata": {},
   "outputs": [
    {
     "name": "stdout",
     "output_type": "stream",
     "text": [
      " Volume in drive D is Data\n",
      " Volume Serial Number is 8AA4-C26A\n",
      "\n",
      " Directory of D:\\Pooja\\Jupyter_Pooja\\pooja_jupyter\n",
      "\n",
      "03-11-2024  12:21             1,514  test2.log\n",
      "04-11-2024  12:24    <DIR>          .\n",
      "03-11-2024  21:05    <DIR>          ..\n",
      "03-11-2024  17:54    <DIR>          .ipynb_checkpoints\n",
      "03-11-2024  19:37    <DIR>          __pycache__\n",
      "04-11-2024  12:24           136,928 ineuron.ipynb\n",
      "03-11-2024  19:36               310 my_module.py\n",
      "03-11-2024  19:35               311 my_module.py.bak\n",
      "03-11-2024  10:02               688 test.log\n",
      "03-11-2024  17:14                46 test1.py\n",
      "03-11-2024  14:33                 0 test1.py.bak\n",
      "03-11-2024  00:21                22 test10.txt\n",
      "03-11-2024  18:06               291 test2.py\n",
      "03-11-2024  18:00                 0 test2.py.bak\n",
      "03-11-2024  13:54             1,100 test3.log\n",
      "03-11-2024  01:34                 0 test43.txt\n",
      "02-11-2024  17:28                 0 testall.txt\n",
      "              13 File(s)        141,210 bytes\n",
      "               4 Dir(s)  250,480,074,752 bytes free\n"
     ]
    }
   ],
   "source": [
    "ls"
   ]
  },
  {
   "cell_type": "code",
   "execution_count": 168,
   "id": "9ba361ff-4b6d-4c65-8c16-cf8365a55a54",
   "metadata": {},
   "outputs": [],
   "source": [
    "##OOP Concept\n",
    "#CLASS : blueprint / representation\n",
    "#OBJECT :  real-entity/class variable"
   ]
  },
  {
   "cell_type": "code",
   "execution_count": 103,
   "id": "520b94a0-47c8-44d0-a9bc-557db07853fb",
   "metadata": {},
   "outputs": [],
   "source": [
    "class car :\n",
    "    def __init__(self, brand_name, fuletype, body_type):\n",
    "#__init__ constructor: method/function help to pass data to a class\n",
    "        #self: pointer(use while writing in funct inside class)                                                                        \n",
    "        self.brand_name = brand_name\n",
    "        self.fuletype = fuletype\n",
    "        self.body_type = body_type\n",
    "    \n",
    "    def desc_car(self):\n",
    "        print(self.brand_name, self.fuletype, self.body_type)\n",
    "\n"
   ]
  },
  {
   "cell_type": "code",
   "execution_count": 111,
   "id": "ebacdab3-774d-4b02-b5fb-833fcb3b9f81",
   "metadata": {},
   "outputs": [],
   "source": [
    "innova = car(\"toyota\", \"petrol\", \"suv\")\n",
    "nexon = car(\"tata\", \"petrol\", \"min suv\")\n",
    "fortunerv=car(\"toyota\", \"desiel\",\"suv\")"
   ]
  },
  {
   "cell_type": "code",
   "execution_count": 113,
   "id": "9b693e84-15d7-4636-8b26-a9b795ac7db3",
   "metadata": {},
   "outputs": [
    {
     "data": {
      "text/plain": [
       "'toyota'"
      ]
     },
     "execution_count": 113,
     "metadata": {},
     "output_type": "execute_result"
    }
   ],
   "source": [
    "innova.brand_name"
   ]
  },
  {
   "cell_type": "code",
   "execution_count": 120,
   "id": "314614e3-2df3-4080-802e-f15460cbadbc",
   "metadata": {},
   "outputs": [
    {
     "name": "stdout",
     "output_type": "stream",
     "text": [
      "tata petrol min suv\n"
     ]
    }
   ],
   "source": [
    "nexon.desc_car()"
   ]
  },
  {
   "cell_type": "code",
   "execution_count": 118,
   "id": "f1ffb530-07f9-436d-aec4-cef7102cb3e9",
   "metadata": {},
   "outputs": [
    {
     "name": "stdout",
     "output_type": "stream",
     "text": [
      "toyota petrol suv\n"
     ]
    }
   ],
   "source": [
    "innova.desc_car()"
   ]
  },
  {
   "cell_type": "code",
   "execution_count": 292,
   "id": "cfebee2c-b3a9-4a3d-8be4-613803e4d8b0",
   "metadata": {},
   "outputs": [],
   "source": [
    "class car:\n",
    "    def __init__ (self, body_type, engine, fuel_type):\n",
    "        self.body_type =body_type\n",
    "        self.engine = engine\n",
    "        self.fuel_type = fuel_type\n",
    "        \n",
    "    def test(self):\n",
    "        print(\"this is my first method in car class\")"
   ]
  },
  {
   "cell_type": "code",
   "execution_count": 294,
   "id": "3c262eba-dcef-4fd3-8585-23b0ecb46ecb",
   "metadata": {},
   "outputs": [],
   "source": [
    "fortuner = car(\"suv\",\"bs4\",\"petrol\")"
   ]
  },
  {
   "cell_type": "code",
   "execution_count": 296,
   "id": "8aac332b-651f-4434-8958-8e9536461891",
   "metadata": {},
   "outputs": [
    {
     "name": "stdout",
     "output_type": "stream",
     "text": [
      "this is my first method in car class\n"
     ]
    }
   ],
   "source": [
    "fortuner.test()"
   ]
  },
  {
   "cell_type": "code",
   "execution_count": 312,
   "id": "7c50b8fc-d3e9-4834-86fb-464111c7fc5d",
   "metadata": {},
   "outputs": [],
   "source": [
    "class car:\n",
    "    def __init__ (p, body_type, engine, fuel_type):\n",
    "        p.a =body_type\n",
    "        p.b = engine\n",
    "        p.c = fuel_type\n",
    "        \n",
    "    def test1(p):\n",
    "        print(\"this is my first method in car class\")"
   ]
  },
  {
   "cell_type": "code",
   "execution_count": 314,
   "id": "6c64e7cf-ded6-4f86-9e12-327f8b0d5d91",
   "metadata": {},
   "outputs": [],
   "source": [
    "punch = car(\"5seater\", \"dual\",\"petrol\")"
   ]
  },
  {
   "cell_type": "code",
   "execution_count": 320,
   "id": "6879748b-890a-4d1c-8c51-3e05ad2001ad",
   "metadata": {},
   "outputs": [
    {
     "name": "stdout",
     "output_type": "stream",
     "text": [
      "this is my first method in car class\n"
     ]
    }
   ],
   "source": [
    "punch.test1()"
   ]
  },
  {
   "cell_type": "code",
   "execution_count": 322,
   "id": "bb4aa16c-8e94-4db6-b652-8e410923f24c",
   "metadata": {},
   "outputs": [
    {
     "data": {
      "text/plain": [
       "'min suv'"
      ]
     },
     "execution_count": 322,
     "metadata": {},
     "output_type": "execute_result"
    }
   ],
   "source": [
    "nexon.body_type"
   ]
  },
  {
   "cell_type": "code",
   "execution_count": 326,
   "id": "b485d7af-9e21-48f6-9842-5df79fb46786",
   "metadata": {},
   "outputs": [
    {
     "data": {
      "text/plain": [
       "'5seater'"
      ]
     },
     "execution_count": 326,
     "metadata": {},
     "output_type": "execute_result"
    }
   ],
   "source": [
    "punch.a"
   ]
  },
  {
   "cell_type": "code",
   "execution_count": 355,
   "id": "ec580672-5fd0-406e-9148-9cdf1f291ab7",
   "metadata": {},
   "outputs": [],
   "source": [
    "class car:\n",
    "\n",
    "    def test(pooja):    #pooja: pointer\n",
    "        print(\"i am pooja\")"
   ]
  },
  {
   "cell_type": "code",
   "execution_count": 357,
   "id": "d7c4d24e-90e4-47e9-bf0b-7687d63e7733",
   "metadata": {},
   "outputs": [],
   "source": [
    "class car:\n",
    "\n",
    "    def test(pooja, a,b):    #pooja: pointer\n",
    "        print(\"addition\",a+b)"
   ]
  },
  {
   "cell_type": "code",
   "execution_count": 359,
   "id": "ee554eb7-3d48-4db4-ad25-c760a2a38287",
   "metadata": {},
   "outputs": [],
   "source": [
    "suzuki =car()"
   ]
  },
  {
   "cell_type": "code",
   "execution_count": 361,
   "id": "504b0c0e-8afe-4b92-ba43-9f16e4c63e06",
   "metadata": {},
   "outputs": [
    {
     "name": "stdout",
     "output_type": "stream",
     "text": [
      "addition 7\n"
     ]
    }
   ],
   "source": [
    "suzuki.test(3,4)"
   ]
  },
  {
   "cell_type": "code",
   "execution_count": 365,
   "id": "c8fa4379-f6ab-4115-b034-2f2e9a6dc4e9",
   "metadata": {},
   "outputs": [
    {
     "name": "stdout",
     "output_type": "stream",
     "text": [
      "<class '__main__.car'>\n"
     ]
    }
   ],
   "source": [
    "print(type(suzuki)) #__main__ :super class"
   ]
  },
  {
   "cell_type": "code",
   "execution_count": 499,
   "id": "eb4cf1bf-0777-4bc4-bcf6-0251145ebcd7",
   "metadata": {},
   "outputs": [],
   "source": [
    "class list_parser:\n",
    "    def __init__(self,l):\n",
    "        self.l = l\n",
    "\n",
    "    \n",
    "    def parcer(self):\n",
    "        if type(self.l)== list:\n",
    "            for i in self.l :\n",
    "                print(i)\n",
    "\n",
    "    def reverser_list(self):\n",
    "        if type(self.l) == list:\n",
    "            return self.l[::-1]"
   ]
  },
  {
   "cell_type": "code",
   "execution_count": 501,
   "id": "880e3a6b-6fd8-42b6-9383-e61d36ac5be2",
   "metadata": {},
   "outputs": [
    {
     "name": "stdout",
     "output_type": "stream",
     "text": [
      "1\n",
      "4\n",
      "5\n",
      "6\n",
      "6\n",
      "73\n"
     ]
    }
   ],
   "source": [
    "c= list_parser([1,4,5,6,6,73])\n",
    "\n",
    "c.parcer()"
   ]
  },
  {
   "cell_type": "code",
   "execution_count": 503,
   "id": "3bb8615a-6dba-4186-a090-2270f7966bf2",
   "metadata": {},
   "outputs": [
    {
     "data": {
      "text/plain": [
       "[73, 6, 6, 5, 4, 1]"
      ]
     },
     "execution_count": 503,
     "metadata": {},
     "output_type": "execute_result"
    }
   ],
   "source": [
    "c.reverser_list()"
   ]
  },
  {
   "cell_type": "code",
   "execution_count": 505,
   "id": "dc0f1bea-fc5d-4783-b392-dd86b2df75d4",
   "metadata": {},
   "outputs": [
    {
     "data": {
      "text/plain": [
       "'create a class for dictionary parsing\\n1. write a function to give all the keys\\n2. write a function to give all the values\\n3. write a function to throw an error in case of  input is not dictionory\\n4. write a function for take user input and then parse a key and value out of dictionory\\n5. write a function to insert new key value pair into dictionory'"
      ]
     },
     "execution_count": 505,
     "metadata": {},
     "output_type": "execute_result"
    }
   ],
   "source": [
    "\"\"\"create a class for dictionary parsing\n",
    "1. write a function to give all the keys\n",
    "2. write a function to give all the values\n",
    "3. write a function to throw an error in case of  input is not dictionory\n",
    "4. write a function for take user input and then parse a key and value out of dictionory\n",
    "5. write a function to insert new key value pair into dictionory\"\"\""
   ]
  },
  {
   "cell_type": "code",
   "execution_count": 8,
   "id": "4cd865f9-0ee6-46d1-9a20-1d34848005c3",
   "metadata": {},
   "outputs": [],
   "source": [
    "class dict_parsing:\n",
    "\n",
    "    def __init__(self, a ):\n",
    "        self.a = a\n",
    "\n",
    "    def getkeys(self):\n",
    "        if self.notdict():\n",
    "            return list(self.a.keys())\n",
    "            \n",
    "    c\n",
    "\n",
    "    def notdict(self):\n",
    "        if type(self.a) != dict:\n",
    "            raise Exception(self.a, \"not a dictionary\")\n",
    "        return 1\n",
    "          \n",
    "        \n",
    "    def take_input(self):\n",
    "        self.a = eval(input())\n",
    "        print(self.a, type(self.a))\n",
    "        print(self.getkeys())\n",
    "        print(self.getvalues())\n",
    "\n",
    "    \n",
    "    def insert_kv(self,k,v):\n",
    "        self.a[k]= v\n",
    "            "
   ]
  },
  {
   "cell_type": "code",
   "execution_count": 297,
   "id": "7c2cf48d-594e-4c30-a34e-8b2dbdb1ae27",
   "metadata": {},
   "outputs": [],
   "source": [
    "class dict_parsing:\n",
    "\n",
    "    def __init__(self, a ):\n",
    "        self.a = a\n",
    "\n",
    "    def notdict(self):\n",
    "        if type(self.a) != dict:\n",
    "            raise Exception(self.a, \"not a dictionary\")\n",
    "        return \"pass\"\n",
    "    \n",
    "    def getkeys(self):\n",
    "        if self.notdict():\n",
    "            return list(self.a.keys())\n",
    "\n",
    "    def getvalues(self):\n",
    "        if self.notdict():\n",
    "            return list(self.a.values())\n",
    "\n",
    "\n",
    "    def userinput(self):\n",
    "        self.a = eval(input())\n",
    "        print(self.a, type(self.a))\n",
    "        print(self.getkeys())\n",
    "        print(self.getvalues())\n",
    "    \n",
    "    def insert_kv(self, k,v):\n",
    "        self.a[k] = v\n",
    "        return self.a"
   ]
  },
  {
   "cell_type": "code",
   "execution_count": 299,
   "id": "f228b65b-9a25-492c-8bf5-23eddc9ab71b",
   "metadata": {},
   "outputs": [],
   "source": [
    "d= dict_parsing({\"p\" : \"pooja\"})"
   ]
  },
  {
   "cell_type": "code",
   "execution_count": 301,
   "id": "9b84c21f-a5d1-4d6b-a451-024d076ffe6e",
   "metadata": {},
   "outputs": [
    {
     "data": {
      "text/plain": [
       "['p']"
      ]
     },
     "execution_count": 301,
     "metadata": {},
     "output_type": "execute_result"
    }
   ],
   "source": [
    "d.getkeys()"
   ]
  },
  {
   "cell_type": "code",
   "execution_count": 303,
   "id": "19f14c01-7b53-4161-93b8-75d7c7858fad",
   "metadata": {},
   "outputs": [
    {
     "data": {
      "text/plain": [
       "['pooja']"
      ]
     },
     "execution_count": 303,
     "metadata": {},
     "output_type": "execute_result"
    }
   ],
   "source": [
    "d.getvalues()"
   ]
  },
  {
   "cell_type": "code",
   "execution_count": 305,
   "id": "66b2d027-cf60-4214-94fe-b05aed6a5960",
   "metadata": {},
   "outputs": [
    {
     "data": {
      "text/plain": [
       "'pass'"
      ]
     },
     "execution_count": 305,
     "metadata": {},
     "output_type": "execute_result"
    }
   ],
   "source": [
    "d.notdict()"
   ]
  },
  {
   "cell_type": "code",
   "execution_count": 307,
   "id": "31abee22-db3e-47ce-ae9b-00c673865326",
   "metadata": {},
   "outputs": [
    {
     "data": {
      "text/plain": [
       "{'p': 'pooja', 'k1': [5, 6]}"
      ]
     },
     "execution_count": 307,
     "metadata": {},
     "output_type": "execute_result"
    }
   ],
   "source": [
    "d.insert_kv(\"k1\", [5,6])"
   ]
  },
  {
   "cell_type": "code",
   "execution_count": 279,
   "id": "7b472111-79a2-4dda-adb2-57670aff1fab",
   "metadata": {},
   "outputs": [
    {
     "name": "stdin",
     "output_type": "stream",
     "text": [
      " {\"H\" : \"HARSHIT\"}\n"
     ]
    },
    {
     "name": "stdout",
     "output_type": "stream",
     "text": [
      "{'H': 'HARSHIT'} <class 'dict'>\n",
      "['H']\n",
      "['HARSHIT']\n"
     ]
    }
   ],
   "source": [
    "d.userinput()"
   ]
  },
  {
   "cell_type": "code",
   "execution_count": 312,
   "id": "78e6c903-ea72-46fc-a4a8-00a9290e5097",
   "metadata": {},
   "outputs": [
    {
     "data": {
      "text/plain": [
       "'create file (module) of full of functions and hold it inside a package(folder) so that just by import these module we can call ny function written inside module\\n'"
      ]
     },
     "execution_count": 312,
     "metadata": {},
     "output_type": "execute_result"
    }
   ],
   "source": [
    "\"\"\"create file (module) of full of functions and hold it inside a package(folder) so that just by import these module we can call ny function written inside module\n",
    "\"\"\""
   ]
  },
  {
   "cell_type": "code",
   "execution_count": 314,
   "id": "00950c6b-5262-4021-8d2a-24fd32750cea",
   "metadata": {},
   "outputs": [
    {
     "data": {
      "text/plain": [
       "<_io.TextIOWrapper name='mydict.py' mode='w' encoding='cp1252'>"
      ]
     },
     "execution_count": 314,
     "metadata": {},
     "output_type": "execute_result"
    }
   ],
   "source": [
    "open(\"mydict.py\", \"w\")"
   ]
  },
  {
   "cell_type": "code",
   "execution_count": 316,
   "id": "547a3606-ace6-4142-90ac-61ab318eedb8",
   "metadata": {},
   "outputs": [
    {
     "name": "stdout",
     "output_type": "stream",
     "text": [
      " Volume in drive D is Data\n",
      " Volume Serial Number is 8AA4-C26A\n",
      "\n",
      " Directory of D:\\Pooja\\Jupyter_Pooja\\pooja_jupyter\n",
      "\n",
      "03-11-2024  12:21             1,514  test2.log\n",
      "05-11-2024  15:05    <DIR>          .\n",
      "03-11-2024  21:05    <DIR>          ..\n",
      "05-11-2024  13:20    <DIR>          .ipynb_checkpoints\n",
      "03-11-2024  19:37    <DIR>          __pycache__\n",
      "05-11-2024  15:04           151,983 ineuron.ipynb\n",
      "03-11-2024  19:36               310 my_module.py\n",
      "03-11-2024  19:35               311 my_module.py.bak\n",
      "05-11-2024  15:05                 0 mydict.py\n",
      "05-11-2024  00:42            33,520 oops class 1.ipynb\n",
      "03-11-2024  10:02               688 test.log\n",
      "03-11-2024  17:14                46 test1.py\n",
      "03-11-2024  14:33                 0 test1.py.bak\n",
      "03-11-2024  00:21                22 test10.txt\n",
      "03-11-2024  18:06               291 test2.py\n",
      "03-11-2024  18:00                 0 test2.py.bak\n",
      "03-11-2024  13:54             1,100 test3.log\n",
      "03-11-2024  01:34                 0 test43.txt\n",
      "02-11-2024  17:28                 0 testall.txt\n",
      "05-11-2024  15:02             1,971 Untitled.ipynb\n",
      "              16 File(s)        191,756 bytes\n",
      "               4 Dir(s)  250,480,107,520 bytes free\n"
     ]
    }
   ],
   "source": [
    "ls\n"
   ]
  },
  {
   "cell_type": "code",
   "execution_count": 318,
   "id": "9d3a0cb3-950c-4a8d-97e3-cf2ac4a57734",
   "metadata": {},
   "outputs": [
    {
     "data": {
      "text/plain": [
       "<_io.TextIOWrapper name='mydict.py' mode='r' encoding='cp1252'>"
      ]
     },
     "execution_count": 318,
     "metadata": {},
     "output_type": "execute_result"
    }
   ],
   "source": [
    "open(\"mydict.py\", \"r\")"
   ]
  },
  {
   "cell_type": "code",
   "execution_count": null,
   "id": "8471c601-006e-404d-8e74-ceea22d11dc5",
   "metadata": {},
   "outputs": [],
   "source": []
  }
 ],
 "metadata": {
  "kernelspec": {
   "display_name": "Python 3 (ipykernel)",
   "language": "python",
   "name": "python3"
  },
  "language_info": {
   "codemirror_mode": {
    "name": "ipython",
    "version": 3
   },
   "file_extension": ".py",
   "mimetype": "text/x-python",
   "name": "python",
   "nbconvert_exporter": "python",
   "pygments_lexer": "ipython3",
   "version": "3.12.7"
  }
 },
 "nbformat": 4,
 "nbformat_minor": 5
}
